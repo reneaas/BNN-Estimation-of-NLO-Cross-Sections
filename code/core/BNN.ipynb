{
 "cells": [
  {
   "cell_type": "code",
   "execution_count": 2,
   "id": "d082d29e",
   "metadata": {},
   "outputs": [],
   "source": [
    "import tensorflow as tf\n",
    "import tensorflow_probability as tfp\n",
    "import numpy as np\n",
    "import matplotlib.pyplot as plt\n",
    "from tqdm import trange\n",
    "tfd = tfp.distributions"
   ]
  },
  {
   "cell_type": "code",
   "execution_count": 4,
   "id": "88dabc3a",
   "metadata": {},
   "outputs": [],
   "source": [
    "class BayesianDenseLayer(tf.keras.layers.Layer):\n",
    "    def __init__(self, num_outputs):\n",
    "        super(BayesianDenseLayer, self).__init__()\n",
    "        self.num_outputs = num_outputs\n",
    "        weights_prior = tfd.Normal(loc=0., scale=1.)\n",
    "        bias_prior = tfd.Normal(loc=0., scale=1.)\n",
    "\n",
    "\n",
    "    def build(self, input_shape):\n",
    "        self.kernel = self.add_weight(\"kernel\",\n",
    "                        shape=[\n",
    "                            int(input_shape[-1]),\n",
    "                            self.num_outputs\n",
    "                        ]\n",
    "        )\n",
    "\n",
    "    def call(self, inputs, w, b):\n",
    "        return self.activation(self.matmul(w, inputs) + b)"
   ]
  },
  {
   "cell_type": "code",
   "execution_count": null,
   "id": "61c57c53",
   "metadata": {},
   "outputs": [],
   "source": [
    "def get_model():\n",
    "    "
   ]
  }
 ],
 "metadata": {
  "kernelspec": {
   "display_name": "Python 3 (ipykernel)",
   "language": "python",
   "name": "python3"
  },
  "language_info": {
   "codemirror_mode": {
    "name": "ipython",
    "version": 3
   },
   "file_extension": ".py",
   "mimetype": "text/x-python",
   "name": "python",
   "nbconvert_exporter": "python",
   "pygments_lexer": "ipython3",
   "version": "3.9.7"
  }
 },
 "nbformat": 4,
 "nbformat_minor": 5
}
