{
 "cells": [
  {
   "cell_type": "code",
   "execution_count": 30,
   "id": "d082d29e",
   "metadata": {},
   "outputs": [],
   "source": [
    "import tensorflow as tf\n",
    "import tensorflow_probability as tfp\n",
    "import numpy as np\n",
    "import matplotlib.pyplot as plt\n",
    "from tqdm import trange\n",
    "tfd = tfp.distributions"
   ]
  },
  {
   "cell_type": "code",
   "execution_count": 31,
   "id": "88dabc3a",
   "metadata": {},
   "outputs": [],
   "source": [
    "n_train = 100\n",
    "dims = 1\n",
    "shape = (n_train, dims)\n",
    "        "
   ]
  },
  {
   "cell_type": "code",
   "execution_count": 32,
   "id": "61c57c53",
   "metadata": {},
   "outputs": [],
   "source": [
    "\n",
    "x_train = tf.random.normal(shape)\n",
    "f = lambda x: x**2\n",
    "y_train = f(x_train)"
   ]
  },
  {
   "cell_type": "code",
   "execution_count": 33,
   "id": "547bbc89",
   "metadata": {},
   "outputs": [
    {
     "name": "stdout",
     "output_type": "stream",
     "text": [
      "(100, 1)\n"
     ]
    }
   ],
   "source": [
    "print(y_train.shape)"
   ]
  },
  {
   "cell_type": "code",
   "execution_count": 34,
   "id": "094b4d6b",
   "metadata": {},
   "outputs": [
    {
     "data": {
      "image/png": "[encoded data removed]",
      "text/plain": [
       "<Figure size 432x288 with 1 Axes>"
      ]
     },
     "metadata": {
      "needs_background": "light"
     },
     "output_type": "display_data"
    }
   ],
   "source": [
    "plt.scatter(x_train, y_train)\n",
    "plt.show()"
   ]
  },
  {
   "cell_type": "code",
   "execution_count": 35,
   "id": "a4b86778",
   "metadata": {},
   "outputs": [],
   "source": [
    "negloglik = lambda y, p_y: -p_y.log_prob(y)"
   ]
  },
  {
   "cell_type": "code",
   "execution_count": 36,
   "id": "7e29f28a",
   "metadata": {},
   "outputs": [
    {
     "name": "stderr",
     "output_type": "stream",
     "text": [
      "2021-11-29 19:05:28.602872: I tensorflow/core/grappler/optimizers/custom_graph_optimizer_registry.cc:112] Plugin optimizer for device_type GPU is enabled.\n"
     ]
    }
   ],
   "source": [
    "#Simple model\n",
    "\n",
    "# Build model.\n",
    "model = tf.keras.Sequential([\n",
    "  tf.keras.layers.Dense(1),\n",
    "  tfp.layers.DistributionLambda(lambda t: tfd.Normal(loc=t, scale=1)),\n",
    "])\n",
    "\n",
    "# Do inference.\n",
    "model.compile(optimizer=tf.optimizers.Adam(learning_rate=0.05), loss=negloglik)\n",
    "model.fit(x_train, y_train, epochs=500, verbose=False)\n",
    "\n",
    "# Make predictions.\n",
    "x_test = tf.random.normal(shape=(100,1))\n",
    "yhat = model(x_test)"
   ]
  },
  {
   "cell_type": "code",
   "execution_count": 38,
   "id": "7a8fa3f4",
   "metadata": {},
   "outputs": [
    {
     "name": "stdout",
     "output_type": "stream",
     "text": [
      "tf.Tensor(\n",
      "[[1.1043283]\n",
      " [1.0635566]\n",
      " [1.4179837]\n",
      " [1.1830481]\n",
      " [1.1569145]\n",
      " [1.2567888]\n",
      " [1.2296968]\n",
      " [1.3713572]\n",
      " [1.289978 ]\n",
      " [1.2154061]\n",
      " [1.181587 ]\n",
      " [1.2606217]\n",
      " [1.5908313]\n",
      " [1.157128 ]\n",
      " [1.4331353]\n",
      " [1.3228846]\n",
      " [1.0665178]\n",
      " [1.19092  ]\n",
      " [1.5343508]\n",
      " [1.2164202]\n",
      " [1.2241579]\n",
      " [1.2858429]\n",
      " [1.2898455]\n",
      " [1.3344256]\n",
      " [1.4797989]\n",
      " [1.1906663]\n",
      " [1.0214868]\n",
      " [1.1871212]\n",
      " [1.2101848]\n",
      " [0.9716052]\n",
      " [1.0707626]\n",
      " [1.2478918]\n",
      " [1.2807677]\n",
      " [1.059733 ]\n",
      " [1.204186 ]\n",
      " [1.3202018]\n",
      " [1.2288674]\n",
      " [1.1191797]\n",
      " [1.1429513]\n",
      " [1.1278114]\n",
      " [1.3259187]\n",
      " [1.3150097]\n",
      " [1.2232198]\n",
      " [1.1313412]\n",
      " [1.2599548]\n",
      " [1.1742278]\n",
      " [1.3542566]\n",
      " [1.1059259]\n",
      " [1.0932294]\n",
      " [1.3890722]\n",
      " [1.180754 ]\n",
      " [1.11322  ]\n",
      " [1.0442783]\n",
      " [1.1131964]\n",
      " [1.4075476]\n",
      " [1.2971005]\n",
      " [1.1374806]\n",
      " [1.4189361]\n",
      " [1.1290207]\n",
      " [1.3234627]\n",
      " [1.1601894]\n",
      " [1.292085 ]\n",
      " [1.154124 ]\n",
      " [1.2929487]\n",
      " [1.1843439]\n",
      " [1.1589108]\n",
      " [1.191784 ]\n",
      " [1.3727214]\n",
      " [1.524752 ]\n",
      " [1.2739774]\n",
      " [1.3262631]\n",
      " [1.3286048]\n",
      " [1.4249688]\n",
      " [1.3538258]\n",
      " [1.3740311]\n",
      " [1.274293 ]\n",
      " [1.1444876]\n",
      " [1.2746092]\n",
      " [1.2487273]\n",
      " [1.2486765]\n",
      " [1.1558034]\n",
      " [1.2417222]\n",
      " [1.4349235]\n",
      " [0.8646766]\n",
      " [1.3227983]\n",
      " [1.2450478]\n",
      " [1.1719449]\n",
      " [1.3558937]\n",
      " [1.3586861]\n",
      " [1.2014484]\n",
      " [1.1142308]\n",
      " [1.3555374]\n",
      " [1.2745985]\n",
      " [1.251576 ]\n",
      " [1.1348158]\n",
      " [1.2465768]\n",
      " [1.216233 ]\n",
      " [1.3075923]\n",
      " [1.4056439]\n",
      " [1.165104 ]], shape=(100, 1), dtype=float32)\n"
     ]
    }
   ],
   "source": [
    "print(yhat.mean())"
   ]
  },
  {
   "cell_type": "code",
   "execution_count": 39,
   "id": "a3a2e5f7",
   "metadata": {},
   "outputs": [
    {
     "data": {
      "image/png": "[encoded data removed]",
      "text/plain": [
       "<Figure size 432x288 with 1 Axes>"
      ]
     },
     "metadata": {
      "needs_background": "light"
     },
     "output_type": "display_data"
    }
   ],
   "source": [
    "plt.plot(x_test, yhat.mean())\n",
    "plt.show()"
   ]
  },
  {
   "cell_type": "code",
   "execution_count": null,
   "id": "199a1c23",
   "metadata": {},
   "outputs": [],
   "source": [
    "## model.layers[0].set_weights(w_prior.sample(model.layers[0].w.shape))"
   ]
  },
  {
   "cell_type": "code",
   "execution_count": 45,
   "id": "883aee65",
   "metadata": {},
   "outputs": [],
   "source": [
    "def unnormalized_log_prob(x):\n",
    "    return -x**2"
   ]
  },
  {
   "cell_type": "code",
   "execution_count": 47,
   "id": "f0ab2312",
   "metadata": {},
   "outputs": [],
   "source": [
    "# Target distribution is proportional to: `exp(-x (1 + x))`.\n",
    "def unnormalized_log_prob(x):\n",
    "    return -x - x**2.\n",
    "\n",
    "# Initialize the HMC transition kernel.\n",
    "num_results = int(10e3)\n",
    "num_burnin_steps = int(1e3)\n",
    "adaptive_hmc = tfp.mcmc.SimpleStepSizeAdaptation(\n",
    "    tfp.mcmc.HamiltonianMonteCarlo(\n",
    "        target_log_prob_fn=unnormalized_log_prob,\n",
    "        num_leapfrog_steps=3,\n",
    "        step_size=1.),\n",
    "    num_adaptation_steps=int(num_burnin_steps * 0.8))\n",
    "\n",
    "# Run the chain (with burn-in).\n",
    "@tf.function\n",
    "def run_chain():\n",
    "  # Run the chain (with burn-in).\n",
    "    samples, is_accepted = tfp.mcmc.sample_chain(\n",
    "        num_results=num_results,\n",
    "        num_burnin_steps=num_burnin_steps,\n",
    "        current_state=1.,\n",
    "        kernel=adaptive_hmc,\n",
    "        trace_fn=lambda _, pkr: pkr.inner_results.is_accepted)\n",
    "\n",
    "    sample_mean = tf.reduce_mean(samples)\n",
    "    sample_stddev = tf.math.reduce_std(samples)\n",
    "    is_accepted = tf.reduce_mean(tf.cast(is_accepted, dtype=tf.float32))\n",
    "    return sample_mean, sample_stddev, is_accepted\n"
   ]
  },
  {
   "cell_type": "code",
   "execution_count": null,
   "id": "15da387a",
   "metadata": {},
   "outputs": [
    {
     "name": "stderr",
     "output_type": "stream",
     "text": [
      "2021-11-26 19:11:24.249306: I tensorflow/compiler/mlir/mlir_graph_optimization_pass.cc:185] None of the MLIR Optimization Passes are enabled (registered 2)\n",
      "2021-11-26 19:11:24.261432: W tensorflow/core/platform/profile_utils/cpu_utils.cc:128] Failed to get CPU frequency: 0 Hz\n",
      "2021-11-26 19:11:24.263080: I tensorflow/core/grappler/optimizers/custom_graph_optimizer_registry.cc:112] Plugin optimizer for device_type GPU is enabled.\n"
     ]
    }
   ],
   "source": [
    "sample_mean, sample_stddev, is_accepted = run_chain()"
   ]
  },
  {
   "cell_type": "code",
   "execution_count": 24,
   "id": "62224fcb",
   "metadata": {},
   "outputs": [],
   "source": [
    "def f(L, a=0.89, b=2.26):\n",
    "    return a*(1./L) + b"
   ]
  },
  {
   "cell_type": "code",
   "execution_count": 25,
   "id": "f2ced5b4",
   "metadata": {},
   "outputs": [],
   "source": [
    "def g(x, a=0.89, b=2.26):\n",
    "    return a*x + b"
   ]
  },
  {
   "cell_type": "code",
   "execution_count": 29,
   "id": "d7a2c9b0",
   "metadata": {},
   "outputs": [],
   "source": [
    "L = np.array([40, 60, 80, 100])\n",
    "x = 1./L"
   ]
  },
  {
   "cell_type": "code",
   "execution_count": 30,
   "id": "716fffc2",
   "metadata": {},
   "outputs": [
    {
     "data": {
      "text/plain": [
       "[<matplotlib.lines.Line2D at 0x16b8202b0>]"
      ]
     },
     "execution_count": 30,
     "metadata": {},
     "output_type": "execute_result"
    },
    {
     "data": {
      "image/png": "[encoded data removed]",
      "text/plain": [
       "<Figure size 432x288 with 1 Axes>"
      ]
     },
     "metadata": {
      "needs_background": "light"
     },
     "output_type": "display_data"
    }
   ],
   "source": [
    "plt.plot(L, f(L))"
   ]
  },
  {
   "cell_type": "code",
   "execution_count": 31,
   "id": "2fd36647",
   "metadata": {},
   "outputs": [
    {
     "data": {
      "text/plain": [
       "[<matplotlib.lines.Line2D at 0x16be7e3d0>]"
      ]
     },
     "execution_count": 31,
     "metadata": {},
     "output_type": "execute_result"
    },
    {
     "data": {
      "image/png": "[encoded data removed]",
      "text/plain": [
       "<Figure size 432x288 with 1 Axes>"
      ]
     },
     "metadata": {
      "needs_background": "light"
     },
     "output_type": "display_data"
    }
   ],
   "source": [
    "plt.plot(x, f(L))"
   ]
  },
  {
   "cell_type": "code",
   "execution_count": null,
   "id": "064e0eaf",
   "metadata": {},
   "outputs": [],
   "source": []
  }
 ],
 "metadata": {
  "kernelspec": {
   "display_name": "Python 3 (ipykernel)",
   "language": "python",
   "name": "python3"
  },
  "language_info": {
   "codemirror_mode": {
    "name": "ipython",
    "version": 3
   },
   "file_extension": ".py",
   "mimetype": "text/x-python",
   "name": "python",
   "nbconvert_exporter": "python",
   "pygments_lexer": "ipython3",
   "version": "3.9.7"
  }
 },
 "nbformat": 4,
 "nbformat_minor": 5
}
