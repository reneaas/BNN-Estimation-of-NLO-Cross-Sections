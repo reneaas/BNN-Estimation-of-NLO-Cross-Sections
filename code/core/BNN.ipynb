{
 "cells": [
  {
   "cell_type": "code",
   "execution_count": 1,
   "id": "d082d29e",
   "metadata": {},
   "outputs": [],
   "source": [
    "import tensorflow as tf\n",
    "import tensorflow_probability as tfp\n",
    "import numpy as np\n",
    "import matplotlib.pyplot as plt\n",
    "from tqdm import trange\n",
    "tfd = tfp.distributions"
   ]
  },
  {
   "cell_type": "code",
   "execution_count": 2,
   "id": "88dabc3a",
   "metadata": {},
   "outputs": [],
   "source": [
    "n_train = 100\n",
    "dims = 1\n",
    "shape = (n_train, dims)\n",
    "        "
   ]
  },
  {
   "cell_type": "code",
   "execution_count": 3,
   "id": "61c57c53",
   "metadata": {},
   "outputs": [
    {
     "name": "stdout",
     "output_type": "stream",
     "text": [
      "Metal device set to: Apple M1\n",
      "\n",
      "systemMemory: 8.00 GB\n",
      "maxCacheSize: 2.67 GB\n",
      "\n"
     ]
    },
    {
     "name": "stderr",
     "output_type": "stream",
     "text": [
      "2021-12-04 14:22:27.580187: I tensorflow/core/common_runtime/pluggable_device/pluggable_device_factory.cc:305] Could not identify NUMA node of platform GPU ID 0, defaulting to 0. Your kernel may not have been built with NUMA support.\n",
      "2021-12-04 14:22:27.580793: I tensorflow/core/common_runtime/pluggable_device/pluggable_device_factory.cc:271] Created TensorFlow device (/job:localhost/replica:0/task:0/device:GPU:0 with 0 MB memory) -> physical PluggableDevice (device: 0, name: METAL, pci bus id: <undefined>)\n"
     ]
    }
   ],
   "source": [
    "\n",
    "x_train = tf.random.normal(shape)\n",
    "f = lambda x: x**2\n",
    "y_train = f(x_train)"
   ]
  },
  {
   "cell_type": "code",
   "execution_count": 4,
   "id": "547bbc89",
   "metadata": {},
   "outputs": [
    {
     "name": "stdout",
     "output_type": "stream",
     "text": [
      "(100, 1)\n"
     ]
    }
   ],
   "source": [
    "print(y_train.shape)"
   ]
  },
  {
   "cell_type": "code",
   "execution_count": 5,
   "id": "094b4d6b",
   "metadata": {},
   "outputs": [
    {
     "data": {
      "image/png": "[encoded data removed]",
      "text/plain": [
       "<Figure size 432x288 with 1 Axes>"
      ]
     },
     "metadata": {
      "needs_background": "light"
     },
     "output_type": "display_data"
    }
   ],
   "source": [
    "plt.scatter(x_train, y_train)\n",
    "plt.show()"
   ]
  },
  {
   "cell_type": "code",
   "execution_count": 6,
   "id": "a4b86778",
   "metadata": {},
   "outputs": [],
   "source": [
    "negloglik = lambda y, p_y: -p_y.log_prob(y)"
   ]
  },
  {
   "cell_type": "code",
   "execution_count": 7,
   "id": "7e29f28a",
   "metadata": {},
   "outputs": [
    {
     "name": "stderr",
     "output_type": "stream",
     "text": [
      "2021-12-04 14:22:31.583008: I tensorflow/compiler/mlir/mlir_graph_optimization_pass.cc:185] None of the MLIR Optimization Passes are enabled (registered 2)\n",
      "2021-12-04 14:22:31.585395: W tensorflow/core/platform/profile_utils/cpu_utils.cc:128] Failed to get CPU frequency: 0 Hz\n",
      "2021-12-04 14:22:31.701956: I tensorflow/core/grappler/optimizers/custom_graph_optimizer_registry.cc:112] Plugin optimizer for device_type GPU is enabled.\n"
     ]
    }
   ],
   "source": [
    "#Simple model\n",
    "\n",
    "# Build model.\n",
    "model = tf.keras.Sequential([\n",
    "  tf.keras.layers.Dense(1),\n",
    "  tfp.layers.DistributionLambda(lambda t: tfd.Normal(loc=t, scale=1)),\n",
    "])\n",
    "\n",
    "# Do inference.\n",
    "model.compile(optimizer=tf.optimizers.Adam(learning_rate=0.05), loss=negloglik)\n",
    "model.fit(x_train, y_train, epochs=500, verbose=False)\n",
    "\n",
    "# Make predictions.\n",
    "x_test = tf.random.normal(shape=(100,1))\n",
    "yhat = model(x_test)"
   ]
  },
  {
   "cell_type": "code",
   "execution_count": 8,
   "id": "7a8fa3f4",
   "metadata": {},
   "outputs": [
    {
     "name": "stdout",
     "output_type": "stream",
     "text": [
      "tf.Tensor(\n",
      "[[ 0.39863914]\n",
      " [ 1.306606  ]\n",
      " [ 0.5485462 ]\n",
      " [ 1.325012  ]\n",
      " [ 0.8082762 ]\n",
      " [ 0.6476904 ]\n",
      " [ 0.51209277]\n",
      " [ 1.7789958 ]\n",
      " [ 0.6229939 ]\n",
      " [-0.50911695]\n",
      " [ 0.61570394]\n",
      " [ 1.3621962 ]\n",
      " [ 0.3252589 ]\n",
      " [ 1.3208784 ]\n",
      " [ 0.90868443]\n",
      " [ 0.08602619]\n",
      " [ 0.30137962]\n",
      " [ 0.0219968 ]\n",
      " [-0.51376146]\n",
      " [ 1.1727365 ]\n",
      " [ 0.36738074]\n",
      " [ 1.8048935 ]\n",
      " [ 1.0001775 ]\n",
      " [ 1.3429244 ]\n",
      " [ 0.49280572]\n",
      " [ 2.1988215 ]\n",
      " [ 1.6113303 ]\n",
      " [ 1.0730592 ]\n",
      " [ 1.6746013 ]\n",
      " [ 0.7302741 ]\n",
      " [ 0.73703974]\n",
      " [ 0.521712  ]\n",
      " [ 0.18376285]\n",
      " [ 0.1046477 ]\n",
      " [ 1.679107  ]\n",
      " [ 0.64102805]\n",
      " [ 1.9530809 ]\n",
      " [ 0.79925466]\n",
      " [ 1.544965  ]\n",
      " [ 0.64856887]\n",
      " [ 0.63106203]\n",
      " [ 0.70655805]\n",
      " [ 0.6977221 ]\n",
      " [ 1.404062  ]\n",
      " [ 0.9637268 ]\n",
      " [ 0.9903562 ]\n",
      " [ 1.0012004 ]\n",
      " [ 1.8419346 ]\n",
      " [ 0.6417084 ]\n",
      " [ 0.5576432 ]\n",
      " [ 2.364126  ]\n",
      " [ 0.74064714]\n",
      " [ 1.098371  ]\n",
      " [ 1.3113596 ]\n",
      " [ 0.90228826]\n",
      " [ 1.1217922 ]\n",
      " [ 0.8391381 ]\n",
      " [ 0.46847448]\n",
      " [ 0.09301752]\n",
      " [ 1.4564368 ]\n",
      " [ 1.4725785 ]\n",
      " [ 1.5228823 ]\n",
      " [ 1.6125004 ]\n",
      " [ 0.08034658]\n",
      " [ 1.9833925 ]\n",
      " [ 1.2458003 ]\n",
      " [ 0.30247623]\n",
      " [ 0.5107585 ]\n",
      " [ 0.66663414]\n",
      " [ 1.0617177 ]\n",
      " [ 0.9099141 ]\n",
      " [ 1.1277425 ]\n",
      " [ 0.05774778]\n",
      " [ 1.1108538 ]\n",
      " [ 0.78973156]\n",
      " [ 1.1402181 ]\n",
      " [ 1.5351948 ]\n",
      " [ 0.93818027]\n",
      " [ 0.689899  ]\n",
      " [ 1.0749383 ]\n",
      " [ 1.6356711 ]\n",
      " [ 0.7927876 ]\n",
      " [-0.6953564 ]\n",
      " [ 0.6645586 ]\n",
      " [ 1.1368897 ]\n",
      " [ 1.1346929 ]\n",
      " [ 1.544894  ]\n",
      " [ 0.6075797 ]\n",
      " [ 1.4411519 ]\n",
      " [ 0.09510857]\n",
      " [ 0.85486245]\n",
      " [ 0.01012886]\n",
      " [ 0.48299044]\n",
      " [ 0.72712505]\n",
      " [ 1.8293332 ]\n",
      " [ 1.5994356 ]\n",
      " [ 1.1057358 ]\n",
      " [ 0.7770467 ]\n",
      " [ 0.01397759]\n",
      " [ 1.409864  ]], shape=(100, 1), dtype=float32)\n"
     ]
    }
   ],
   "source": [
    "print(yhat.mean())"
   ]
  },
  {
   "cell_type": "code",
   "execution_count": 9,
   "id": "a3a2e5f7",
   "metadata": {},
   "outputs": [
    {
     "data": {
      "image/png": "[encoded data removed]",
      "text/plain": [
       "<Figure size 432x288 with 1 Axes>"
      ]
     },
     "metadata": {
      "needs_background": "light"
     },
     "output_type": "display_data"
    }
   ],
   "source": [
    "plt.plot(x_test, yhat.mean())\n",
    "plt.show()"
   ]
  },
  {
   "cell_type": "code",
   "execution_count": 10,
   "id": "199a1c23",
   "metadata": {},
   "outputs": [],
   "source": [
    "## model.layers[0].set_weights(w_prior.sample(model.layers[0].w.shape))"
   ]
  },
  {
   "cell_type": "code",
   "execution_count": 11,
   "id": "883aee65",
   "metadata": {},
   "outputs": [],
   "source": [
    "def unnormalized_log_prob(x):\n",
    "    return -x**2"
   ]
  },
  {
   "cell_type": "code",
   "execution_count": 12,
   "id": "f0ab2312",
   "metadata": {},
   "outputs": [],
   "source": [
    "# Target distribution is proportional to: `exp(-x (1 + x))`.\n",
    "def unnormalized_log_prob(x):\n",
    "    return -x - x**2.\n",
    "\n",
    "# Initialize the HMC transition kernel.\n",
    "num_results = int(10e3)\n",
    "num_burnin_steps = int(1e3)\n",
    "adaptive_hmc = tfp.mcmc.SimpleStepSizeAdaptation(\n",
    "    tfp.mcmc.HamiltonianMonteCarlo(\n",
    "        target_log_prob_fn=unnormalized_log_prob,\n",
    "        num_leapfrog_steps=3,\n",
    "        step_size=1.),\n",
    "    num_adaptation_steps=int(num_burnin_steps * 0.8))\n",
    "\n",
    "# Run the chain (with burn-in).\n",
    "@tf.function\n",
    "def run_chain():\n",
    "  # Run the chain (with burn-in).\n",
    "    samples, is_accepted = tfp.mcmc.sample_chain(\n",
    "        num_results=num_results,\n",
    "        num_burnin_steps=num_burnin_steps,\n",
    "        current_state=1.,\n",
    "        kernel=adaptive_hmc,\n",
    "        trace_fn=lambda _, pkr: pkr.inner_results.is_accepted)\n",
    "\n",
    "    sample_mean = tf.reduce_mean(samples)\n",
    "    sample_stddev = tf.math.reduce_std(samples)\n",
    "    is_accepted = tf.reduce_mean(tf.cast(is_accepted, dtype=tf.float32))\n",
    "    return sample_mean, sample_stddev, is_accepted\n"
   ]
  },
  {
   "cell_type": "code",
   "execution_count": 13,
   "id": "15da387a",
   "metadata": {},
   "outputs": [
    {
     "name": "stderr",
     "output_type": "stream",
     "text": [
      "2021-12-04 14:22:45.914947: I tensorflow/core/grappler/optimizers/custom_graph_optimizer_registry.cc:112] Plugin optimizer for device_type GPU is enabled.\n"
     ]
    }
   ],
   "source": [
    "with tf.device(\"/CPU:0\"):\n",
    "    sample_mean, sample_stddev, is_accepted = run_chain()"
   ]
  },
  {
   "cell_type": "code",
   "execution_count": 15,
   "id": "62224fcb",
   "metadata": {},
   "outputs": [
    {
     "name": "stdout",
     "output_type": "stream",
     "text": [
      "tf.Tensor(-0.4685812, shape=(), dtype=float32)\n",
      "tf.Tensor(0.718493, shape=(), dtype=float32)\n"
     ]
    }
   ],
   "source": [
    "print(sample_mean)\n",
    "print(sample_stddev)"
   ]
  },
  {
   "cell_type": "code",
   "execution_count": 25,
   "id": "f2ced5b4",
   "metadata": {},
   "outputs": [],
   "source": [
    "def g(x, a=0.89, b=2.26):\n",
    "    return a*x + b"
   ]
  },
  {
   "cell_type": "code",
   "execution_count": 29,
   "id": "d7a2c9b0",
   "metadata": {},
   "outputs": [],
   "source": [
    "L = np.array([40, 60, 80, 100])\n",
    "x = 1./L"
   ]
  },
  {
   "cell_type": "code",
   "execution_count": 30,
   "id": "716fffc2",
   "metadata": {},
   "outputs": [
    {
     "data": {
      "text/plain": [
       "[<matplotlib.lines.Line2D at 0x16b8202b0>]"
      ]
     },
     "execution_count": 30,
     "metadata": {},
     "output_type": "execute_result"
    },
    {
     "data": {
      "image/png": "[encoded data removed]",
      "text/plain": [
       "<Figure size 432x288 with 1 Axes>"
      ]
     },
     "metadata": {
      "needs_background": "light"
     },
     "output_type": "display_data"
    }
   ],
   "source": [
    "plt.plot(L, f(L))"
   ]
  },
  {
   "cell_type": "code",
   "execution_count": 31,
   "id": "2fd36647",
   "metadata": {},
   "outputs": [
    {
     "data": {
      "text/plain": [
       "[<matplotlib.lines.Line2D at 0x16be7e3d0>]"
      ]
     },
     "execution_count": 31,
     "metadata": {},
     "output_type": "execute_result"
    },
    {
     "data": {
      "image/png": "[encoded data removed]",
      "text/plain": [
       "<Figure size 432x288 with 1 Axes>"
      ]
     },
     "metadata": {
      "needs_background": "light"
     },
     "output_type": "display_data"
    }
   ],
   "source": [
    "plt.plot(x, f(L))"
   ]
  },
  {
   "cell_type": "code",
   "execution_count": null,
   "id": "064e0eaf",
   "metadata": {},
   "outputs": [],
   "source": []
  }
 ],
 "metadata": {
  "kernelspec": {
   "display_name": "Python 3 (ipykernel)",
   "language": "python",
   "name": "python3"
  },
  "language_info": {
   "codemirror_mode": {
    "name": "ipython",
    "version": 3
   },
   "file_extension": ".py",
   "mimetype": "text/x-python",
   "name": "python",
   "nbconvert_exporter": "python",
   "pygments_lexer": "ipython3",
   "version": "3.9.7"
  }
 },
 "nbformat": 4,
 "nbformat_minor": 5
}
