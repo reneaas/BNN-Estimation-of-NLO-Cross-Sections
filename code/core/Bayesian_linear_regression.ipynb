{
 "cells": [
  {
   "cell_type": "code",
   "execution_count": 1,
   "id": "9a21698c",
   "metadata": {},
   "outputs": [],
   "source": [
    "import numpy as np\n",
    "import matplotlib.pyplot as plt\n",
    "from tqdm import trange"
   ]
  },
  {
   "cell_type": "code",
   "execution_count": 2,
   "id": "31e5814c",
   "metadata": {},
   "outputs": [],
   "source": [
    "def prior(q: np.ndarray) -> float:\n",
    "    return 0.5 * np.dot(q, q)"
   ]
  },
  {
   "cell_type": "code",
   "execution_count": 3,
   "id": "13497eae",
   "metadata": {},
   "outputs": [],
   "source": [
    "def grad_prior(q: np.ndarray) -> np.ndarray:\n",
    "    return np.array([1, *q])"
   ]
  },
  {
   "cell_type": "code",
   "execution_count": 4,
   "id": "a2c2dd95",
   "metadata": {},
   "outputs": [],
   "source": [
    "def model(x: np.ndarray, q: np.ndarray) -> float:\n",
    "    \"\"\"Linear regression model\n",
    "        \n",
    "        Args:\n",
    "            q : model params\n",
    "            x : input point\n",
    "    \"\"\"\n",
    "    return np.dot(x, q)"
   ]
  },
  {
   "cell_type": "code",
   "execution_count": 5,
   "id": "ad4a1d73",
   "metadata": {},
   "outputs": [],
   "source": [
    "def V(q: np.ndarray, x: np.ndarray, t: np.ndarray) -> float:\n",
    "    return 0.5*np.dot(q, q) + np.sum(model(x,q)-t)\n",
    "    "
   ]
  },
  {
   "cell_type": "code",
   "execution_count": 6,
   "id": "685e3f2c",
   "metadata": {},
   "outputs": [],
   "source": [
    "def grad_V(q: np.ndarray, x: np.ndarray, t: np.ndarray) -> np.ndarray:\n",
    "    return q + np.einsum(\"i,ij->j\", model(x,q)-t, x)\n",
    "    "
   ]
  },
  {
   "cell_type": "code",
   "execution_count": 7,
   "id": "43b7fb01",
   "metadata": {},
   "outputs": [],
   "source": [
    "def hmc(\n",
    "    V: float,\n",
    "    grad_V: np.ndarray,\n",
    "    eps: float,\n",
    "    L: int,\n",
    "    current_q: np.ndarray,\n",
    "    x: np.ndarray,\n",
    "    t: np.ndarray,\n",
    ") -> np.ndarray:\n",
    "    \"\"\"Performs one step of Hamiltonian Monte Carlo\n",
    "\n",
    "    Args:\n",
    "        V (function)        :   Potential energy as a function of params q\n",
    "        grad_V (function)   :   Gradient of potential energy\n",
    "        eps                 :   Step size in Leapfrog method\n",
    "        L                   :   Number of Leapfrog iterations\n",
    "        current_q           :   Generalized coordinate (or parameter).\n",
    "    \"\"\"\n",
    "\n",
    "    q = np.copy(current_q)\n",
    "    q = current_q\n",
    "    p = np.random.normal(0, 1, size=q.shape)\n",
    "    current_p = np.copy(p)\n",
    "    # Make a half step for momentum at the beginning:\n",
    "    p = p - 0.5 * eps * grad_V(q, x, t)\n",
    "\n",
    "    # Do the inner steps of Leapfrog\n",
    "    for i in range(L - 1):\n",
    "        q += eps * p\n",
    "        p -= eps * grad_V(q, x, t)\n",
    "\n",
    "    # Final step of Leapfrog\n",
    "    q += eps * p\n",
    "    p -= 0.5 * eps * grad_V(q, x, t)\n",
    "    p = -p\n",
    "\n",
    "    current_V = V(current_q, x, t)\n",
    "    current_K = 0.5 * np.dot(current_p, current_p)\n",
    "    proposed_V = V(q, x, t)\n",
    "    proposed_K = 0.5 * np.dot(p, p)\n",
    "\n",
    "    dV = proposed_V - current_V\n",
    "    dK = proposed_K - current_K\n",
    "\n",
    "    if np.random.uniform() >= min(1, np.exp(-dV) * np.exp(-dK)):\n",
    "        current_q[:] = q[:]\n",
    "    return current_q"
   ]
  },
  {
   "cell_type": "code",
   "execution_count": 8,
   "id": "9c957755",
   "metadata": {},
   "outputs": [],
   "source": [
    "def ground_truth(x) -> np.ndarray:\n",
    "    w = np.array([-2, -1])\n",
    "    return np.einsum(\"ij,j\", x, w)"
   ]
  },
  {
   "cell_type": "code",
   "execution_count": 9,
   "id": "fd0398e3",
   "metadata": {},
   "outputs": [],
   "source": [
    "x = np.random.uniform(0, 1, size=(100, 2))"
   ]
  },
  {
   "cell_type": "code",
   "execution_count": 10,
   "id": "dbf2ecae",
   "metadata": {},
   "outputs": [],
   "source": [
    "t = ground_truth(x)"
   ]
  },
  {
   "cell_type": "code",
   "execution_count": 11,
   "id": "9ad8f26e",
   "metadata": {},
   "outputs": [],
   "source": [
    "q = np.random.normal(0,0.001,size=2)"
   ]
  },
  {
   "cell_type": "code",
   "execution_count": 12,
   "id": "2d83c1dc",
   "metadata": {},
   "outputs": [
    {
     "data": {
      "text/plain": [
       "array([90.56941838, 82.29215584])"
      ]
     },
     "execution_count": 12,
     "metadata": {},
     "output_type": "execute_result"
    }
   ],
   "source": [
    "grad_V(q, x, t)"
   ]
  },
  {
   "cell_type": "code",
   "execution_count": 13,
   "id": "b7a11829",
   "metadata": {},
   "outputs": [],
   "source": [
    "N = 100000\n",
    "predictions = []\n",
    "for k in range(N):\n",
    "    q = hmc(V, grad_V, eps=0.01, L=20, x=x, t=t, current_q=q)\n",
    "    y = model(x, q)\n",
    "    predictions.append(y)"
   ]
  },
  {
   "cell_type": "code",
   "execution_count": 14,
   "id": "bb3a9a6b",
   "metadata": {},
   "outputs": [
    {
     "name": "stdout",
     "output_type": "stream",
     "text": [
      "(100,)\n"
     ]
    }
   ],
   "source": [
    "print(predictions[0].shape)\n",
    "predictions = np.array(predictions)"
   ]
  },
  {
   "cell_type": "code",
   "execution_count": 15,
   "id": "12fdfbef",
   "metadata": {},
   "outputs": [
    {
     "name": "stdout",
     "output_type": "stream",
     "text": [
      "(100000, 100)\n"
     ]
    }
   ],
   "source": [
    "print(predictions.shape)"
   ]
  },
  {
   "cell_type": "code",
   "execution_count": 16,
   "id": "5659a85b",
   "metadata": {},
   "outputs": [],
   "source": [
    "predictions_mean = np.mean(predictions,axis=0)"
   ]
  },
  {
   "cell_type": "code",
   "execution_count": 17,
   "id": "3b0d233b",
   "metadata": {},
   "outputs": [
    {
     "name": "stdout",
     "output_type": "stream",
     "text": [
      "(100,)\n"
     ]
    }
   ],
   "source": [
    "print(predictions_mean.shape)"
   ]
  },
  {
   "cell_type": "code",
   "execution_count": 18,
   "id": "f0ffedf9",
   "metadata": {},
   "outputs": [
    {
     "name": "stdout",
     "output_type": "stream",
     "text": [
      "(100,)\n",
      "(100,)\n"
     ]
    },
    {
     "data": {
      "image/png": "[encoded data removed]",
      "text/plain": [
       "<Figure size 432x288 with 1 Axes>"
      ]
     },
     "metadata": {
      "needs_background": "light"
     },
     "output_type": "display_data"
    }
   ],
   "source": [
    "plt.scatter(x[:, 1], predictions_mean)\n",
    "print(x[:, 1].shape)\n",
    "print(predictions_mean.shape)\n",
    "plt.show()"
   ]
  },
  {
   "cell_type": "code",
   "execution_count": null,
   "id": "1a6b60cf",
   "metadata": {},
   "outputs": [],
   "source": []
  },
  {
   "cell_type": "code",
   "execution_count": null,
   "id": "e9414260",
   "metadata": {},
   "outputs": [],
   "source": []
  }
 ],
 "metadata": {
  "kernelspec": {
   "display_name": "Python 3 (ipykernel)",
   "language": "python",
   "name": "python3"
  },
  "language_info": {
   "codemirror_mode": {
    "name": "ipython",
    "version": 3
   },
   "file_extension": ".py",
   "mimetype": "text/x-python",
   "name": "python",
   "nbconvert_exporter": "python",
   "pygments_lexer": "ipython3",
   "version": "3.9.7"
  }
 },
 "nbformat": 4,
 "nbformat_minor": 5
}
