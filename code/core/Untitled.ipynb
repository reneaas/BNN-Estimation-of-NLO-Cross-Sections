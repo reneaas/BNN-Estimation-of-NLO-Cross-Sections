{
 "cells": [
  {
   "cell_type": "code",
   "execution_count": 2,
   "id": "acc5235c",
   "metadata": {},
   "outputs": [],
   "source": [
    "import tensorflow as tf \n",
    "import tensorflow_probability as tfp\n",
    "import matplotlib.pyplot as plt\n",
    "import seaborn as sns\n",
    "from tqdm import trange\n",
    "import numpy as np"
   ]
  },
  {
   "cell_type": "code",
   "execution_count": 3,
   "id": "0b13c124",
   "metadata": {},
   "outputs": [],
   "source": [
    "# Define the prior weight distribution as Normal of mean=0 and stddev=1.\n",
    "# Note that, in this example, the we prior distribution is not trainable,\n",
    "# as we fix its parameters.\n",
    "def prior(kernel_size, bias_size, dtype=None):\n",
    "    n = kernel_size + bias_size\n",
    "    prior_model = tf.keras.Sequential(\n",
    "        [\n",
    "            tfp.layers.DistributionLambda(\n",
    "                lambda t: tfp.distributions.MultivariateNormalDiag(\n",
    "                    loc=tf.zeros(n), scale_diag=tf.ones(n)\n",
    "                )\n",
    "            )\n",
    "        ]\n",
    "    )\n",
    "    return prior_model"
   ]
  },
  {
   "cell_type": "code",
   "execution_count": 4,
   "id": "02af7363",
   "metadata": {},
   "outputs": [],
   "source": [
    "# Define variational posterior weight distribution as multivariate Gaussian.\n",
    "# Note that the learnable parameters for this distribution are the means,\n",
    "# variances, and covariances.\n",
    "def posterior(kernel_size, bias_size, dtype=None):\n",
    "    n = kernel_size + bias_size\n",
    "    posterior_model = tf.keras.Sequential(\n",
    "        [\n",
    "            tfp.layers.VariableLayer(\n",
    "                tfp.layers.MultivariateNormalTriL.params_size(n), dtype=dtype\n",
    "            ),\n",
    "            tfp.layers.MultivariateNormalTriL(n),\n",
    "        ]\n",
    "    )\n",
    "    return posterior_model"
   ]
  },
  {
   "cell_type": "code",
   "execution_count": 5,
   "id": "d6207a62",
   "metadata": {},
   "outputs": [],
   "source": [
    "def get_model(layers, train_sz, activation):\n",
    "    model = tf.keras.Sequential()\n",
    "    model.add(\n",
    "        tfp.layers.DenseVariational(\n",
    "            units=layers[0],\n",
    "            make_posterior_fn=posterior,\n",
    "            make_prior_fn=prior,\n",
    "            kl_weight=1 / train_sz,\n",
    "            activation=activation,\n",
    "        )\n",
    "    )\n",
    "    for units in layers[1:-1]:\n",
    "        model.add(\n",
    "            tfp.layers.DenseVariational(\n",
    "            units=units,\n",
    "            make_posterior_fn=posterior,\n",
    "            make_prior_fn=prior,\n",
    "            kl_weight=1 / train_sz,\n",
    "            activation=activation,\n",
    "            )\n",
    "        )\n",
    "    #model.add(tf.keras.layers.Dense(units=layers[-1], activation=None))\n",
    "\n",
    "    model.add(\n",
    "        tfp.layers.DenseVariational(\n",
    "        units=layers[-1],\n",
    "        make_posterior_fn=posterior,\n",
    "        make_prior_fn=prior,\n",
    "        kl_weight=1 / train_sz,\n",
    "        activation=None,\n",
    "        )\n",
    "    )\n",
    "\n",
    "    return model"
   ]
  },
  {
   "cell_type": "code",
   "execution_count": 6,
   "id": "a566c46c",
   "metadata": {},
   "outputs": [],
   "source": [
    "def compute_predictions(model, x, num_results):\n",
    "    predictions = []\n",
    "    X = []\n",
    "    for i in trange(num_results, desc=\"Computing predictions\"):\n",
    "        predictions.append(model(x).numpy().squeeze(-1))\n",
    "        X.append(x.numpy().squeeze(-1))\n",
    "    X = np.array(X)\n",
    "    predictions = np.array(predictions)\n",
    "    return X, predictions"
   ]
  },
  {
   "cell_type": "code",
   "execution_count": 7,
   "id": "31c0dc12",
   "metadata": {},
   "outputs": [
    {
     "name": "stdout",
     "output_type": "stream",
     "text": [
      "Metal device set to: Apple M1\n"
     ]
    },
    {
     "name": "stderr",
     "output_type": "stream",
     "text": [
      "2021-12-07 13:44:27.137416: I tensorflow/core/common_runtime/pluggable_device/pluggable_device_factory.cc:305] Could not identify NUMA node of platform GPU ID 0, defaulting to 0. Your kernel may not have been built with NUMA support.\n",
      "2021-12-07 13:44:27.137615: I tensorflow/core/common_runtime/pluggable_device/pluggable_device_factory.cc:271] Created TensorFlow device (/job:localhost/replica:0/task:0/device:GPU:0 with 0 MB memory) -> physical PluggableDevice (device: 0, name: METAL, pci bus id: <undefined>)\n"
     ]
    }
   ],
   "source": [
    "n_train = 100\n",
    "layers = [10, 1]\n",
    "model = get_model(layers, n_train, activation=\"relu\")\n",
    "model.compile(\n",
    "    optimizer=\"adam\",\n",
    "    loss=\"mse\",\n",
    ")"
   ]
  },
  {
   "cell_type": "code",
   "execution_count": 8,
   "id": "db4f66c8",
   "metadata": {},
   "outputs": [],
   "source": [
    "f = lambda x: tf.math.sin(x)\n",
    "x_train = tf.random.normal(shape=(n_train, 1), mean=0., stddev=2.)\n",
    "y_train = f(x_train)"
   ]
  },
  {
   "cell_type": "code",
   "execution_count": 9,
   "id": "71ec7783",
   "metadata": {},
   "outputs": [
    {
     "name": "stdout",
     "output_type": "stream",
     "text": [
      "WARNING:tensorflow:From /Users/reneaas/miniforge3/lib/python3.9/site-packages/tensorflow_probability/python/distributions/distribution.py:342: calling MultivariateNormalDiag.__init__ (from tensorflow_probability.python.distributions.mvn_diag) with scale_identity_multiplier is deprecated and will be removed after 2020-01-01.\n",
      "Instructions for updating:\n",
      "`scale_identity_multiplier` is deprecated; please combine it into `scale_diag` directly instead.\n"
     ]
    },
    {
     "name": "stderr",
     "output_type": "stream",
     "text": [
      "2021-12-07 13:44:29.024896: W tensorflow/core/platform/profile_utils/cpu_utils.cc:128] Failed to get CPU frequency: 0 Hz\n",
      "2021-12-07 13:44:29.141504: W tensorflow/python/util/util.cc:368] Sets are not currently considered sequences, but this may change in the future, so consider avoiding using them.\n",
      "2021-12-07 13:44:29.635432: I tensorflow/core/grappler/optimizers/custom_graph_optimizer_registry.cc:112] Plugin optimizer for device_type GPU is enabled.\n"
     ]
    },
    {
     "data": {
      "text/plain": [
       "<keras.callbacks.History at 0x28f8dcbb0>"
      ]
     },
     "execution_count": 9,
     "metadata": {},
     "output_type": "execute_result"
    }
   ],
   "source": [
    "model.fit(x=x_train, y=y_train, batch_size=100, epochs=100, verbose=0)"
   ]
  },
  {
   "cell_type": "code",
   "execution_count": 10,
   "id": "9c72d00c",
   "metadata": {},
   "outputs": [],
   "source": [
    "num_results = 100\n",
    "n_test = 1\n",
    "x_test = tf.random.normal(shape=(n_test, 1), mean=0., stddev=2.)"
   ]
  },
  {
   "cell_type": "code",
   "execution_count": null,
   "id": "496a3e6b",
   "metadata": {},
   "outputs": [],
   "source": [
    "model(x_test)"
   ]
  },
  {
   "cell_type": "code",
   "execution_count": null,
   "id": "3206e4a3",
   "metadata": {},
   "outputs": [
    {
     "name": "stderr",
     "output_type": "stream",
     "text": [
      "Computing predictions:   1%|█                                                                                                         | 1/100 [00:00<00:26,  3.69it/s]"
     ]
    }
   ],
   "source": [
    "X, predictions = compute_predictions(model, x_test, num_results=num_results)\n",
    "print(predictions)\n",
    "print(predictions.shape)\n",
    "\n",
    "\n",
    "sns.lineplot(X.ravel(), predictions.ravel())\n",
    "\n",
    "x = np.linspace(-2 * np.pi, 2 * np.pi, 1001)\n",
    "plt.plot(x, f(x), label=\"True function\")\n",
    "plt.xlabel(\"x\")\n",
    "plt.ylabel(\"y\")\n",
    "plt.show()\n"
   ]
  },
  {
   "cell_type": "code",
   "execution_count": null,
   "id": "ba9900da",
   "metadata": {},
   "outputs": [],
   "source": []
  }
 ],
 "metadata": {
  "kernelspec": {
   "display_name": "Python 3 (ipykernel)",
   "language": "python",
   "name": "python3"
  },
  "language_info": {
   "codemirror_mode": {
    "name": "ipython",
    "version": 3
   },
   "file_extension": ".py",
   "mimetype": "text/x-python",
   "name": "python",
   "nbconvert_exporter": "python",
   "pygments_lexer": "ipython3",
   "version": "3.9.7"
  }
 },
 "nbformat": 4,
 "nbformat_minor": 5
}
