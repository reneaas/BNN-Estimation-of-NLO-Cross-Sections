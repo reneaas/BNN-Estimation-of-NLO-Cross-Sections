{
 "cells": [
  {
   "cell_type": "code",
   "execution_count": 1,
   "id": "f24b72d5",
   "metadata": {},
   "outputs": [],
   "source": [
    "import tensorflow as tf\n",
    "import tensorflow_probability as tfp"
   ]
  },
  {
   "cell_type": "code",
   "execution_count": 2,
   "id": "9678dd53",
   "metadata": {},
   "outputs": [],
   "source": [
    "def target_log_prob_fn(x):\n",
    "    return -0.5 * tf.reduce_sum(x ** 2, axis=-1)"
   ]
  },
  {
   "cell_type": "code",
   "execution_count": 50,
   "id": "2b066ecb",
   "metadata": {},
   "outputs": [],
   "source": [
    "step_size = 0.01\n",
    "kernel = tfp.mcmc.NoUTurnSampler(\n",
    "    target_log_prob_fn=target_log_prob_fn,\n",
    "    step_size=step_size\n",
    ")"
   ]
  },
  {
   "cell_type": "code",
   "execution_count": 51,
   "id": "05dc8853",
   "metadata": {},
   "outputs": [],
   "source": [
    "kernel = tfp.mcmc.HamiltonianMonteCarlo(\n",
    "    target_log_prob_fn=target_log_prob_fn,\n",
    "    step_size=step_size,\n",
    "    num_leapfrog_steps=60\n",
    ")"
   ]
  },
  {
   "cell_type": "code",
   "execution_count": 53,
   "id": "35311045",
   "metadata": {},
   "outputs": [
    {
     "name": "stderr",
     "output_type": "stream",
     "text": [
      "/Users/reneaas/miniforge3/lib/python3.9/site-packages/tensorflow_probability/python/mcmc/sample.py:339: UserWarning: Tracing all kernel results by default is deprecated. Set the `trace_fn` argument to None (the future default value) or an explicit callback that traces the values you are interested in.\n",
      "  warnings.warn('Tracing all kernel results by default is deprecated. Set '\n"
     ]
    }
   ],
   "source": [
    "chain, trace = tfp.mcmc.sample_chain(\n",
    "    kernel=kernel,\n",
    "    num_results=10,\n",
    "    num_burnin_steps=0,\n",
    "    current_state=tf.zeros([1])\n",
    ")"
   ]
  },
  {
   "cell_type": "code",
   "execution_count": 54,
   "id": "4e5a7fc4",
   "metadata": {},
   "outputs": [
    {
     "name": "stdout",
     "output_type": "stream",
     "text": [
      "tf.Tensor(\n",
      "[[-1.761608  ]\n",
      " [-1.9642444 ]\n",
      " [-0.90163964]\n",
      " [-0.91291565]\n",
      " [-1.4551407 ]\n",
      " [-1.2262373 ]\n",
      " [-1.0393379 ]\n",
      " [-1.3000093 ]\n",
      " [-0.71187305]\n",
      " [-1.6579342 ]], shape=(10, 1), dtype=float32)\n"
     ]
    }
   ],
   "source": [
    "print(chain)"
   ]
  },
  {
   "cell_type": "code",
   "execution_count": null,
   "id": "98a2544f",
   "metadata": {},
   "outputs": [],
   "source": []
  },
  {
   "cell_type": "code",
   "execution_count": 55,
   "id": "8a2952f2",
   "metadata": {},
   "outputs": [],
   "source": [
    "import re"
   ]
  },
  {
   "cell_type": "code",
   "execution_count": 61,
   "id": "8e0ef8b1",
   "metadata": {},
   "outputs": [
    {
     "name": "stdout",
     "output_type": "stream",
     "text": [
      "['accepted_results', 'count', 'extra', 'index', 'is_accepted', 'log_accept_ratio', 'proposed_results', 'proposed_state', 'seed']\n"
     ]
    }
   ],
   "source": [
    "\n",
    "attributes = []\n",
    "pattern = r\"(\\_){1,2}(\\w)+(\\_){0,2}\"\n",
    "for attr in dir(trace):\n",
    "    if re.match(pattern, attr) is None:\n",
    "        attributes.append(attr)\n",
    "print(attributes)\n",
    "\n",
    "trace = {attr: getattr(trace, attr) for attr in attributes}\n",
    "print()"
   ]
  },
  {
   "cell_type": "code",
   "execution_count": 62,
   "id": "e9afef4b",
   "metadata": {},
   "outputs": [
    {
     "name": "stdout",
     "output_type": "stream",
     "text": [
      "{'accepted_results': UncalibratedHamiltonianMonteCarloKernelResults(\n",
      "  log_acceptance_correction=<tf.Tensor: shape=(10,), dtype=float32, numpy=\n",
      "    array([ 1.5515893 ,  0.37748712, -1.5226117 ,  0.01023032,  0.6419936 ,\n",
      "           -0.30688113, -0.21171199,  0.3048929 , -0.5916153 ,  1.1209624 ],\n",
      "          dtype=float32)>,\n",
      "  target_log_prob=<tf.Tensor: shape=(10,), dtype=float32, numpy=\n",
      "    array([-1.5516312 , -1.9291277 , -0.406477  , -0.41670743, -1.058717  ,\n",
      "           -0.75182885, -0.54011154, -0.8450119 , -0.2533816 , -1.3743727 ],\n",
      "          dtype=float32)>,\n",
      "  grads_target_log_prob=[<tf.Tensor: shape=(10, 1), dtype=float32, numpy=\n",
      "    array([[1.7616079],\n",
      "           [1.9642442],\n",
      "           [0.9016396],\n",
      "           [0.9129155],\n",
      "           [1.4551406],\n",
      "           [1.2262372],\n",
      "           [1.0393379],\n",
      "           [1.3000091],\n",
      "           [0.711873 ],\n",
      "           [1.6579341]], dtype=float32)>],\n",
      "  initial_momentum=[<tf.Tensor: shape=(10, 1), dtype=float32, numpy=\n",
      "    array([[-3.1198134 ],\n",
      "           [-0.9037945 ],\n",
      "           [ 1.27427   ],\n",
      "           [-0.29887757],\n",
      "           [-1.2426785 ],\n",
      "           [-0.04473475],\n",
      "           [-0.04831699],\n",
      "           [-0.78315234],\n",
      "           [ 0.6394546 ],\n",
      "           [-1.8956835 ]], dtype=float32)>],\n",
      "  final_momentum=[<tf.Tensor: shape=(10, 1), dtype=float32, numpy=\n",
      "    array([[-2.5748894 ],\n",
      "           [ 0.2487372 ],\n",
      "           [ 2.1607842 ],\n",
      "           [ 0.26242554],\n",
      "           [-0.51015913],\n",
      "           [ 0.784706  ],\n",
      "           [ 0.65250176],\n",
      "           [-0.05951321],\n",
      "           [ 1.2617975 ],\n",
      "           [-1.1626226 ]], dtype=float32)>],\n",
      "  step_size=[],\n",
      "  num_leapfrog_steps=[],\n",
      "  seed=[]\n",
      "), 'count': <built-in method count of MetropolisHastingsKernelResults object at 0x2a3a663c0>, 'extra': [], 'index': <built-in method index of MetropolisHastingsKernelResults object at 0x2a3a663c0>, 'is_accepted': <tf.Tensor: shape=(10,), dtype=bool, numpy=\n",
      "array([ True,  True,  True,  True,  True,  True,  True,  True,  True,\n",
      "        True])>, 'log_accept_ratio': <tf.Tensor: shape=(10,), dtype=float32, numpy=\n",
      "array([-4.1961670e-05, -9.3579292e-06,  3.8981438e-05, -1.0058284e-07,\n",
      "       -1.6033649e-05,  7.0333481e-06,  5.3197145e-06, -7.4505806e-06,\n",
      "        1.4960766e-05, -2.8729439e-05], dtype=float32)>, 'proposed_results': UncalibratedHamiltonianMonteCarloKernelResults(\n",
      "  log_acceptance_correction=<tf.Tensor: shape=(10,), dtype=float32, numpy=\n",
      "    array([ 1.5515893 ,  0.37748712, -1.5226117 ,  0.01023032,  0.6419936 ,\n",
      "           -0.30688113, -0.21171199,  0.3048929 , -0.5916153 ,  1.1209624 ],\n",
      "          dtype=float32)>,\n",
      "  target_log_prob=<tf.Tensor: shape=(10,), dtype=float32, numpy=\n",
      "    array([-1.5516312 , -1.9291277 , -0.406477  , -0.41670743, -1.058717  ,\n",
      "           -0.75182885, -0.54011154, -0.8450119 , -0.2533816 , -1.3743727 ],\n",
      "          dtype=float32)>,\n",
      "  grads_target_log_prob=[<tf.Tensor: shape=(10, 1), dtype=float32, numpy=\n",
      "    array([[1.7616079],\n",
      "           [1.9642442],\n",
      "           [0.9016396],\n",
      "           [0.9129155],\n",
      "           [1.4551406],\n",
      "           [1.2262372],\n",
      "           [1.0393379],\n",
      "           [1.3000091],\n",
      "           [0.711873 ],\n",
      "           [1.6579341]], dtype=float32)>],\n",
      "  initial_momentum=[<tf.Tensor: shape=(10, 1), dtype=float32, numpy=\n",
      "    array([[-3.1198134 ],\n",
      "           [-0.9037945 ],\n",
      "           [ 1.27427   ],\n",
      "           [-0.29887757],\n",
      "           [-1.2426785 ],\n",
      "           [-0.04473475],\n",
      "           [-0.04831699],\n",
      "           [-0.78315234],\n",
      "           [ 0.6394546 ],\n",
      "           [-1.8956835 ]], dtype=float32)>],\n",
      "  final_momentum=[<tf.Tensor: shape=(10, 1), dtype=float32, numpy=\n",
      "    array([[-2.5748894 ],\n",
      "           [ 0.2487372 ],\n",
      "           [ 2.1607842 ],\n",
      "           [ 0.26242554],\n",
      "           [-0.51015913],\n",
      "           [ 0.784706  ],\n",
      "           [ 0.65250176],\n",
      "           [-0.05951321],\n",
      "           [ 1.2617975 ],\n",
      "           [-1.1626226 ]], dtype=float32)>],\n",
      "  step_size=[],\n",
      "  num_leapfrog_steps=[],\n",
      "  seed=<tf.Tensor: shape=(10, 2), dtype=int32, numpy=\n",
      "    array([[-1669226881,   692540009],\n",
      "           [  112615271,  -208139031],\n",
      "           [ -744685921, -1691235745],\n",
      "           [  604981823, -1848608119],\n",
      "           [ -930118136,  1405132496],\n",
      "           [  -24372479,   323617384],\n",
      "           [ 1322573361,  1716099216],\n",
      "           [ 1498725982,     2276741],\n",
      "           [ -447310554,  1036677901],\n",
      "           [-1808887477,  -584217261]], dtype=int32)>\n",
      "), 'proposed_state': <tf.Tensor: shape=(10, 1), dtype=float32, numpy=\n",
      "array([[-1.761608  ],\n",
      "       [-1.9642444 ],\n",
      "       [-0.90163964],\n",
      "       [-0.91291565],\n",
      "       [-1.4551407 ],\n",
      "       [-1.2262373 ],\n",
      "       [-1.0393379 ],\n",
      "       [-1.3000093 ],\n",
      "       [-0.71187305],\n",
      "       [-1.6579342 ]], dtype=float32)>, 'seed': <tf.Tensor: shape=(10, 2), dtype=int32, numpy=\n",
      "array([[-1380541112,  2131057036],\n",
      "       [  489487480,  1317556999],\n",
      "       [  673679694,  -331063698],\n",
      "       [ 2135567420,   819580210],\n",
      "       [  393243102,  -144018983],\n",
      "       [ 1419342034,  1917140994],\n",
      "       [ 1537702831, -1982314139],\n",
      "       [  266669379,  -684739868],\n",
      "       [  345416558,   779972502],\n",
      "       [-1456639594,  -861873912]], dtype=int32)>}\n"
     ]
    }
   ],
   "source": [
    "print(trace)"
   ]
  },
  {
   "cell_type": "code",
   "execution_count": 57,
   "id": "84c13cac",
   "metadata": {},
   "outputs": [],
   "source": [
    "import pandas as pd"
   ]
  },
  {
   "cell_type": "code",
   "execution_count": 58,
   "id": "28456ac9",
   "metadata": {},
   "outputs": [
    {
     "ename": "ValueError",
     "evalue": "All arrays must be of the same length",
     "output_type": "error",
     "traceback": [
      "\u001b[0;31m---------------------------------------------------------------------------\u001b[0m",
      "\u001b[0;31mValueError\u001b[0m                                Traceback (most recent call last)",
      "\u001b[0;32m/var/folders/7c/2n3ws68d3rb2xw9b37v1zkxm0000gn/T/ipykernel_5629/2963157071.py\u001b[0m in \u001b[0;36m<module>\u001b[0;34m\u001b[0m\n\u001b[0;32m----> 1\u001b[0;31m \u001b[0mdf\u001b[0m \u001b[0;34m=\u001b[0m \u001b[0mpd\u001b[0m\u001b[0;34m.\u001b[0m\u001b[0mDataFrame\u001b[0m\u001b[0;34m(\u001b[0m\u001b[0mtraces\u001b[0m\u001b[0;34m)\u001b[0m\u001b[0;34m\u001b[0m\u001b[0;34m\u001b[0m\u001b[0m\n\u001b[0m",
      "\u001b[0;32m~/miniforge3/lib/python3.9/site-packages/pandas/core/frame.py\u001b[0m in \u001b[0;36m__init__\u001b[0;34m(self, data, index, columns, dtype, copy)\u001b[0m\n\u001b[1;32m    612\u001b[0m         \u001b[0;32melif\u001b[0m \u001b[0misinstance\u001b[0m\u001b[0;34m(\u001b[0m\u001b[0mdata\u001b[0m\u001b[0;34m,\u001b[0m \u001b[0mdict\u001b[0m\u001b[0;34m)\u001b[0m\u001b[0;34m:\u001b[0m\u001b[0;34m\u001b[0m\u001b[0;34m\u001b[0m\u001b[0m\n\u001b[1;32m    613\u001b[0m             \u001b[0;31m# GH#38939 de facto copy defaults to False only in non-dict cases\u001b[0m\u001b[0;34m\u001b[0m\u001b[0;34m\u001b[0m\u001b[0m\n\u001b[0;32m--> 614\u001b[0;31m             \u001b[0mmgr\u001b[0m \u001b[0;34m=\u001b[0m \u001b[0mdict_to_mgr\u001b[0m\u001b[0;34m(\u001b[0m\u001b[0mdata\u001b[0m\u001b[0;34m,\u001b[0m \u001b[0mindex\u001b[0m\u001b[0;34m,\u001b[0m \u001b[0mcolumns\u001b[0m\u001b[0;34m,\u001b[0m \u001b[0mdtype\u001b[0m\u001b[0;34m=\u001b[0m\u001b[0mdtype\u001b[0m\u001b[0;34m,\u001b[0m \u001b[0mcopy\u001b[0m\u001b[0;34m=\u001b[0m\u001b[0mcopy\u001b[0m\u001b[0;34m,\u001b[0m \u001b[0mtyp\u001b[0m\u001b[0;34m=\u001b[0m\u001b[0mmanager\u001b[0m\u001b[0;34m)\u001b[0m\u001b[0;34m\u001b[0m\u001b[0;34m\u001b[0m\u001b[0m\n\u001b[0m\u001b[1;32m    615\u001b[0m         \u001b[0;32melif\u001b[0m \u001b[0misinstance\u001b[0m\u001b[0;34m(\u001b[0m\u001b[0mdata\u001b[0m\u001b[0;34m,\u001b[0m \u001b[0mma\u001b[0m\u001b[0;34m.\u001b[0m\u001b[0mMaskedArray\u001b[0m\u001b[0;34m)\u001b[0m\u001b[0;34m:\u001b[0m\u001b[0;34m\u001b[0m\u001b[0;34m\u001b[0m\u001b[0m\n\u001b[1;32m    616\u001b[0m             \u001b[0;32mimport\u001b[0m \u001b[0mnumpy\u001b[0m\u001b[0;34m.\u001b[0m\u001b[0mma\u001b[0m\u001b[0;34m.\u001b[0m\u001b[0mmrecords\u001b[0m \u001b[0;32mas\u001b[0m \u001b[0mmrecords\u001b[0m\u001b[0;34m\u001b[0m\u001b[0;34m\u001b[0m\u001b[0m\n",
      "\u001b[0;32m~/miniforge3/lib/python3.9/site-packages/pandas/core/internals/construction.py\u001b[0m in \u001b[0;36mdict_to_mgr\u001b[0;34m(data, index, columns, dtype, typ, copy)\u001b[0m\n\u001b[1;32m    462\u001b[0m         \u001b[0;31m# TODO: can we get rid of the dt64tz special case above?\u001b[0m\u001b[0;34m\u001b[0m\u001b[0;34m\u001b[0m\u001b[0m\n\u001b[1;32m    463\u001b[0m \u001b[0;34m\u001b[0m\u001b[0m\n\u001b[0;32m--> 464\u001b[0;31m     return arrays_to_mgr(\n\u001b[0m\u001b[1;32m    465\u001b[0m         \u001b[0marrays\u001b[0m\u001b[0;34m,\u001b[0m \u001b[0mdata_names\u001b[0m\u001b[0;34m,\u001b[0m \u001b[0mindex\u001b[0m\u001b[0;34m,\u001b[0m \u001b[0mcolumns\u001b[0m\u001b[0;34m,\u001b[0m \u001b[0mdtype\u001b[0m\u001b[0;34m=\u001b[0m\u001b[0mdtype\u001b[0m\u001b[0;34m,\u001b[0m \u001b[0mtyp\u001b[0m\u001b[0;34m=\u001b[0m\u001b[0mtyp\u001b[0m\u001b[0;34m,\u001b[0m \u001b[0mconsolidate\u001b[0m\u001b[0;34m=\u001b[0m\u001b[0mcopy\u001b[0m\u001b[0;34m\u001b[0m\u001b[0;34m\u001b[0m\u001b[0m\n\u001b[1;32m    466\u001b[0m     )\n",
      "\u001b[0;32m~/miniforge3/lib/python3.9/site-packages/pandas/core/internals/construction.py\u001b[0m in \u001b[0;36marrays_to_mgr\u001b[0;34m(arrays, arr_names, index, columns, dtype, verify_integrity, typ, consolidate)\u001b[0m\n\u001b[1;32m    117\u001b[0m         \u001b[0;31m# figure out the index, if necessary\u001b[0m\u001b[0;34m\u001b[0m\u001b[0;34m\u001b[0m\u001b[0m\n\u001b[1;32m    118\u001b[0m         \u001b[0;32mif\u001b[0m \u001b[0mindex\u001b[0m \u001b[0;32mis\u001b[0m \u001b[0;32mNone\u001b[0m\u001b[0;34m:\u001b[0m\u001b[0;34m\u001b[0m\u001b[0;34m\u001b[0m\u001b[0m\n\u001b[0;32m--> 119\u001b[0;31m             \u001b[0mindex\u001b[0m \u001b[0;34m=\u001b[0m \u001b[0m_extract_index\u001b[0m\u001b[0;34m(\u001b[0m\u001b[0marrays\u001b[0m\u001b[0;34m)\u001b[0m\u001b[0;34m\u001b[0m\u001b[0;34m\u001b[0m\u001b[0m\n\u001b[0m\u001b[1;32m    120\u001b[0m         \u001b[0;32melse\u001b[0m\u001b[0;34m:\u001b[0m\u001b[0;34m\u001b[0m\u001b[0;34m\u001b[0m\u001b[0m\n\u001b[1;32m    121\u001b[0m             \u001b[0mindex\u001b[0m \u001b[0;34m=\u001b[0m \u001b[0mensure_index\u001b[0m\u001b[0;34m(\u001b[0m\u001b[0mindex\u001b[0m\u001b[0;34m)\u001b[0m\u001b[0;34m\u001b[0m\u001b[0;34m\u001b[0m\u001b[0m\n",
      "\u001b[0;32m~/miniforge3/lib/python3.9/site-packages/pandas/core/internals/construction.py\u001b[0m in \u001b[0;36m_extract_index\u001b[0;34m(data)\u001b[0m\n\u001b[1;32m    633\u001b[0m             \u001b[0mlengths\u001b[0m \u001b[0;34m=\u001b[0m \u001b[0mlist\u001b[0m\u001b[0;34m(\u001b[0m\u001b[0mset\u001b[0m\u001b[0;34m(\u001b[0m\u001b[0mraw_lengths\u001b[0m\u001b[0;34m)\u001b[0m\u001b[0;34m)\u001b[0m\u001b[0;34m\u001b[0m\u001b[0;34m\u001b[0m\u001b[0m\n\u001b[1;32m    634\u001b[0m             \u001b[0;32mif\u001b[0m \u001b[0mlen\u001b[0m\u001b[0;34m(\u001b[0m\u001b[0mlengths\u001b[0m\u001b[0;34m)\u001b[0m \u001b[0;34m>\u001b[0m \u001b[0;36m1\u001b[0m\u001b[0;34m:\u001b[0m\u001b[0;34m\u001b[0m\u001b[0;34m\u001b[0m\u001b[0m\n\u001b[0;32m--> 635\u001b[0;31m                 \u001b[0;32mraise\u001b[0m \u001b[0mValueError\u001b[0m\u001b[0;34m(\u001b[0m\u001b[0;34m\"All arrays must be of the same length\"\u001b[0m\u001b[0;34m)\u001b[0m\u001b[0;34m\u001b[0m\u001b[0;34m\u001b[0m\u001b[0m\n\u001b[0m\u001b[1;32m    636\u001b[0m \u001b[0;34m\u001b[0m\u001b[0m\n\u001b[1;32m    637\u001b[0m             \u001b[0;32mif\u001b[0m \u001b[0mhave_dicts\u001b[0m\u001b[0;34m:\u001b[0m\u001b[0;34m\u001b[0m\u001b[0;34m\u001b[0m\u001b[0m\n",
      "\u001b[0;31mValueError\u001b[0m: All arrays must be of the same length"
     ]
    }
   ],
   "source": [
    "df = pd.DataFrame(traces)"
   ]
  },
  {
   "cell_type": "code",
   "execution_count": null,
   "id": "958a1cd9",
   "metadata": {},
   "outputs": [],
   "source": []
  }
 ],
 "metadata": {
  "kernelspec": {
   "display_name": "Python 3.9.7 64-bit ('base': conda)",
   "language": "python",
   "name": "python397jvsc74a57bd044ff99d3af02f09e383a3ffce177a5afc09212563ff719d1be2a4f8771c8cd81"
  },
  "language_info": {
   "codemirror_mode": {
    "name": "ipython",
    "version": 3
   },
   "file_extension": ".py",
   "mimetype": "text/x-python",
   "name": "python",
   "nbconvert_exporter": "python",
   "pygments_lexer": "ipython3",
   "version": "3.9.9"
  }
 },
 "nbformat": 4,
 "nbformat_minor": 5
}
