{
 "cells": [
  {
   "cell_type": "code",
   "execution_count": 1,
   "id": "3efb94e4",
   "metadata": {},
   "outputs": [],
   "source": [
    "import tensorflow as tf \n",
    "import tensorflow_probability as tfp"
   ]
  },
  {
   "cell_type": "code",
   "execution_count": 2,
   "id": "b5b1cd89",
   "metadata": {},
   "outputs": [],
   "source": [
    "n = 5\n",
    "m = 3\n",
    "num_chains = 7"
   ]
  },
  {
   "cell_type": "code",
   "execution_count": 3,
   "id": "a06b481b",
   "metadata": {},
   "outputs": [
    {
     "name": "stdout",
     "output_type": "stream",
     "text": [
      "Metal device set to: Apple M1\n",
      "\n",
      "systemMemory: 8.00 GB\n",
      "maxCacheSize: 2.67 GB\n",
      "\n"
     ]
    },
    {
     "name": "stderr",
     "output_type": "stream",
     "text": [
      "2022-01-02 07:17:04.508050: I tensorflow/core/common_runtime/pluggable_device/pluggable_device_factory.cc:305] Could not identify NUMA node of platform GPU ID 0, defaulting to 0. Your kernel may not have been built with NUMA support.\n",
      "2022-01-02 07:17:04.508385: I tensorflow/core/common_runtime/pluggable_device/pluggable_device_factory.cc:271] Created TensorFlow device (/job:localhost/replica:0/task:0/device:GPU:0 with 0 MB memory) -> physical PluggableDevice (device: 0, name: METAL, pci bus id: <undefined>)\n"
     ]
    }
   ],
   "source": [
    "kernel = tf.random.normal(shape=(num_chains, n, m))\n",
    "bias = tf.random.normal(shape=(num_chains, m))"
   ]
  },
  {
   "cell_type": "code",
   "execution_count": 4,
   "id": "79182adc",
   "metadata": {},
   "outputs": [
    {
     "data": {
      "text/plain": [
       "<tf.Tensor: shape=(7, 5, 3), dtype=float32, numpy=\n",
       "array([[[ 8.51410925e-01,  3.80788982e-01,  1.61915040e+00],\n",
       "        [ 7.99249649e-01,  1.34933531e-01,  5.29468298e-01],\n",
       "        [-8.76355648e-01, -1.23933184e+00,  7.28454828e-01],\n",
       "        [-1.54124260e+00,  1.76365983e+00,  2.29737252e-01],\n",
       "        [-2.19800696e-01,  1.13278544e+00, -4.69487399e-01]],\n",
       "\n",
       "       [[-5.88677227e-01,  5.89945540e-02, -1.94407380e+00],\n",
       "        [-4.23632234e-01,  7.23942757e-01, -8.78119946e-01],\n",
       "        [-4.40934032e-01,  1.52204013e+00,  8.38449776e-01],\n",
       "        [-5.70991516e-01,  4.22989696e-01, -2.84892112e-01],\n",
       "        [-3.96363676e-01, -8.88156295e-01,  1.94174215e-01]],\n",
       "\n",
       "       [[-4.90415026e-04,  3.01149376e-02, -1.28273571e+00],\n",
       "        [-3.28183889e-01, -1.92466068e+00,  9.99726892e-01],\n",
       "        [ 2.15764731e-01, -1.07253718e+00, -2.37776399e-01],\n",
       "        [-9.99145746e-01,  1.27894831e+00, -3.81406635e-01],\n",
       "        [ 7.38356560e-02, -1.32684255e+00,  5.59095740e-01]],\n",
       "\n",
       "       [[-1.32847452e+00,  1.34684667e-01,  3.32941979e-01],\n",
       "        [ 2.02927089e+00,  1.08894855e-01,  2.14401307e-03],\n",
       "        [ 1.08220923e+00, -4.87906843e-01, -7.61657596e-01],\n",
       "        [-6.91805482e-01,  9.12398517e-01,  1.07372987e+00],\n",
       "        [ 1.48202693e+00,  1.17562795e+00,  7.47611582e-01]],\n",
       "\n",
       "       [[ 1.76275039e+00, -1.07951176e+00, -8.60032022e-01],\n",
       "        [-9.76063609e-02, -1.46054780e+00, -1.07729959e+00],\n",
       "        [ 1.54099941e+00,  1.63863468e+00,  2.74887383e-01],\n",
       "        [-8.08984816e-01,  5.64929187e-01, -2.49989390e+00],\n",
       "        [-1.72894609e+00, -2.07101393e+00, -8.36721838e-01]],\n",
       "\n",
       "       [[-1.45964038e+00,  3.27117622e-01,  1.43888378e+00],\n",
       "        [-1.25302076e+00, -1.38432813e+00, -4.34700400e-01],\n",
       "        [-1.34562245e-02, -1.87819684e+00,  2.00857902e+00],\n",
       "        [ 6.83503985e-01,  3.08969487e-02,  1.44295347e+00],\n",
       "        [ 7.07718506e-02, -9.41665590e-01,  6.51367784e-01]],\n",
       "\n",
       "       [[ 3.01989138e-01,  4.99761730e-01,  1.71117795e+00],\n",
       "        [-1.14835054e-01,  1.12909925e+00, -6.68139398e-01],\n",
       "        [ 1.00720477e+00, -1.24690914e+00, -2.54817319e+00],\n",
       "        [-8.32141161e-01,  6.53460145e-01,  3.37305576e-01],\n",
       "        [ 4.73907769e-01, -6.55781209e-01,  1.47173464e+00]]],\n",
       "      dtype=float32)>"
      ]
     },
     "execution_count": 4,
     "metadata": {},
     "output_type": "execute_result"
    }
   ],
   "source": [
    "kernel"
   ]
  },
  {
   "cell_type": "code",
   "execution_count": 5,
   "id": "94b0f902",
   "metadata": {},
   "outputs": [],
   "source": [
    "mcmc_samples = [kernel, bias]\n",
    "def get_posterior_mcmc(mcmc_samples):\n",
    "    def posterior_mcmc(kernel_size, bias_size, dtype=None):\n",
    "        return tfp.layers.DistributionLambda(\n",
    "            lambda t: tfp.distributions.Empirical(mcmc_samples)\n",
    "        )\n",
    "    return posterior_mcmc"
   ]
  },
  {
   "cell_type": "code",
   "execution_count": 6,
   "id": "0c0e3df9",
   "metadata": {},
   "outputs": [],
   "source": [
    "posterior = get_posterior_mcmc(mcmc_samples=mcmc_samples)"
   ]
  },
  {
   "cell_type": "code",
   "execution_count": null,
   "id": "9d28ba08",
   "metadata": {},
   "outputs": [],
   "source": []
  },
  {
   "cell_type": "code",
   "execution_count": 9,
   "id": "e062e610",
   "metadata": {},
   "outputs": [],
   "source": [
    "kernel_posterior = tfp.distributions.Empirical(samples=kernel, event_ndims=2)\n",
    "bias_posterior = tfp.distributions.Empirical(samples=bias, event_ndims=1)\n"
   ]
  },
  {
   "cell_type": "code",
   "execution_count": 10,
   "id": "0f0a8d76",
   "metadata": {},
   "outputs": [
    {
     "name": "stdout",
     "output_type": "stream",
     "text": [
      "tf.Tensor(\n",
      "[[-1.4596404   0.32711762  1.4388838 ]\n",
      " [-1.2530208  -1.3843281  -0.4347004 ]\n",
      " [-0.01345622 -1.8781968   2.008579  ]\n",
      " [ 0.683504    0.03089695  1.4429535 ]\n",
      " [ 0.07077185 -0.9416656   0.6513678 ]], shape=(5, 3), dtype=float32)\n",
      "tf.Tensor(\n",
      "[[[ 8.51410925e-01  3.80788982e-01  1.61915040e+00]\n",
      "  [ 7.99249649e-01  1.34933531e-01  5.29468298e-01]\n",
      "  [-8.76355648e-01 -1.23933184e+00  7.28454828e-01]\n",
      "  [-1.54124260e+00  1.76365983e+00  2.29737252e-01]\n",
      "  [-2.19800696e-01  1.13278544e+00 -4.69487399e-01]]\n",
      "\n",
      " [[-5.88677227e-01  5.89945540e-02 -1.94407380e+00]\n",
      "  [-4.23632234e-01  7.23942757e-01 -8.78119946e-01]\n",
      "  [-4.40934032e-01  1.52204013e+00  8.38449776e-01]\n",
      "  [-5.70991516e-01  4.22989696e-01 -2.84892112e-01]\n",
      "  [-3.96363676e-01 -8.88156295e-01  1.94174215e-01]]\n",
      "\n",
      " [[-4.90415026e-04  3.01149376e-02 -1.28273571e+00]\n",
      "  [-3.28183889e-01 -1.92466068e+00  9.99726892e-01]\n",
      "  [ 2.15764731e-01 -1.07253718e+00 -2.37776399e-01]\n",
      "  [-9.99145746e-01  1.27894831e+00 -3.81406635e-01]\n",
      "  [ 7.38356560e-02 -1.32684255e+00  5.59095740e-01]]\n",
      "\n",
      " [[-1.32847452e+00  1.34684667e-01  3.32941979e-01]\n",
      "  [ 2.02927089e+00  1.08894855e-01  2.14401307e-03]\n",
      "  [ 1.08220923e+00 -4.87906843e-01 -7.61657596e-01]\n",
      "  [-6.91805482e-01  9.12398517e-01  1.07372987e+00]\n",
      "  [ 1.48202693e+00  1.17562795e+00  7.47611582e-01]]\n",
      "\n",
      " [[ 1.76275039e+00 -1.07951176e+00 -8.60032022e-01]\n",
      "  [-9.76063609e-02 -1.46054780e+00 -1.07729959e+00]\n",
      "  [ 1.54099941e+00  1.63863468e+00  2.74887383e-01]\n",
      "  [-8.08984816e-01  5.64929187e-01 -2.49989390e+00]\n",
      "  [-1.72894609e+00 -2.07101393e+00 -8.36721838e-01]]\n",
      "\n",
      " [[-1.45964038e+00  3.27117622e-01  1.43888378e+00]\n",
      "  [-1.25302076e+00 -1.38432813e+00 -4.34700400e-01]\n",
      "  [-1.34562245e-02 -1.87819684e+00  2.00857902e+00]\n",
      "  [ 6.83503985e-01  3.08969487e-02  1.44295347e+00]\n",
      "  [ 7.07718506e-02 -9.41665590e-01  6.51367784e-01]]\n",
      "\n",
      " [[ 3.01989138e-01  4.99761730e-01  1.71117795e+00]\n",
      "  [-1.14835054e-01  1.12909925e+00 -6.68139398e-01]\n",
      "  [ 1.00720477e+00 -1.24690914e+00 -2.54817319e+00]\n",
      "  [-8.32141161e-01  6.53460145e-01  3.37305576e-01]\n",
      "  [ 4.73907769e-01 -6.55781209e-01  1.47173464e+00]]], shape=(7, 5, 3), dtype=float32)\n"
     ]
    }
   ],
   "source": [
    "print(kernel_posterior.sample())\n",
    "print(kernel)\n"
   ]
  },
  {
   "cell_type": "code",
   "execution_count": 11,
   "id": "d1802c40",
   "metadata": {},
   "outputs": [
    {
     "name": "stdout",
     "output_type": "stream",
     "text": [
      "tf.Tensor([-0.2570973  -0.95289993  0.5167044 ], shape=(3,), dtype=float32)\n"
     ]
    },
    {
     "data": {
      "text/plain": [
       "<tf.Tensor: shape=(7, 3), dtype=float32, numpy=\n",
       "array([[-0.32625642, -1.5554326 , -1.3853469 ],\n",
       "       [ 0.00318867,  0.5953822 , -0.58557576],\n",
       "       [-0.5830249 ,  2.5067716 ,  1.2896934 ],\n",
       "       [-0.2570973 , -0.95289993,  0.5167044 ],\n",
       "       [-1.2639438 ,  0.49971095, -1.5241348 ],\n",
       "       [-0.14181434,  0.41335255, -0.9111221 ],\n",
       "       [-1.2150005 ,  1.9182705 ,  0.7719303 ]], dtype=float32)>"
      ]
     },
     "execution_count": 11,
     "metadata": {},
     "output_type": "execute_result"
    }
   ],
   "source": [
    "print(bias_posterior.sample())\n",
    "bias"
   ]
  },
  {
   "cell_type": "code",
   "execution_count": 70,
   "id": "3be5037b",
   "metadata": {},
   "outputs": [],
   "source": [
    "weights = [\n",
    "    [kernel[i], bias[i]] for i in range(kernel.shape[0])\n",
    "]"
   ]
  },
  {
   "cell_type": "code",
   "execution_count": 16,
   "id": "0257bcbc",
   "metadata": {},
   "outputs": [],
   "source": [
    "weight_posterior = tfp.distributions.JointDistributionSequential([\n",
    "    tfp.distributions.Empirical(samples=kernel, event_ndims=2),\n",
    "    tfp.distributions.Empirical(samples=bias, event_ndims=1),\n",
    "    ],\n",
    "    batch_ndims=2\n",
    ")"
   ]
  },
  {
   "cell_type": "code",
   "execution_count": 19,
   "id": "886c9396",
   "metadata": {},
   "outputs": [
    {
     "name": "stdout",
     "output_type": "stream",
     "text": [
      "[<tf.Tensor: shape=(5, 5, 3), dtype=float32, numpy=\n",
      "array([[[ 8.51410925e-01,  3.80788982e-01,  1.61915040e+00],\n",
      "        [ 7.99249649e-01,  1.34933531e-01,  5.29468298e-01],\n",
      "        [-8.76355648e-01, -1.23933184e+00,  7.28454828e-01],\n",
      "        [-1.54124260e+00,  1.76365983e+00,  2.29737252e-01],\n",
      "        [-2.19800696e-01,  1.13278544e+00, -4.69487399e-01]],\n",
      "\n",
      "       [[-1.32847452e+00,  1.34684667e-01,  3.32941979e-01],\n",
      "        [ 2.02927089e+00,  1.08894855e-01,  2.14401307e-03],\n",
      "        [ 1.08220923e+00, -4.87906843e-01, -7.61657596e-01],\n",
      "        [-6.91805482e-01,  9.12398517e-01,  1.07372987e+00],\n",
      "        [ 1.48202693e+00,  1.17562795e+00,  7.47611582e-01]],\n",
      "\n",
      "       [[ 1.76275039e+00, -1.07951176e+00, -8.60032022e-01],\n",
      "        [-9.76063609e-02, -1.46054780e+00, -1.07729959e+00],\n",
      "        [ 1.54099941e+00,  1.63863468e+00,  2.74887383e-01],\n",
      "        [-8.08984816e-01,  5.64929187e-01, -2.49989390e+00],\n",
      "        [-1.72894609e+00, -2.07101393e+00, -8.36721838e-01]],\n",
      "\n",
      "       [[-5.88677227e-01,  5.89945540e-02, -1.94407380e+00],\n",
      "        [-4.23632234e-01,  7.23942757e-01, -8.78119946e-01],\n",
      "        [-4.40934032e-01,  1.52204013e+00,  8.38449776e-01],\n",
      "        [-5.70991516e-01,  4.22989696e-01, -2.84892112e-01],\n",
      "        [-3.96363676e-01, -8.88156295e-01,  1.94174215e-01]],\n",
      "\n",
      "       [[-1.32847452e+00,  1.34684667e-01,  3.32941979e-01],\n",
      "        [ 2.02927089e+00,  1.08894855e-01,  2.14401307e-03],\n",
      "        [ 1.08220923e+00, -4.87906843e-01, -7.61657596e-01],\n",
      "        [-6.91805482e-01,  9.12398517e-01,  1.07372987e+00],\n",
      "        [ 1.48202693e+00,  1.17562795e+00,  7.47611582e-01]]],\n",
      "      dtype=float32)>, <tf.Tensor: shape=(5, 3), dtype=float32, numpy=\n",
      "array([[-0.32625642, -1.5554326 , -1.3853469 ],\n",
      "       [-1.2639438 ,  0.49971095, -1.5241348 ],\n",
      "       [-1.2639438 ,  0.49971095, -1.5241348 ],\n",
      "       [-0.2570973 , -0.95289993,  0.5167044 ],\n",
      "       [-0.5830249 ,  2.5067716 ,  1.2896934 ]], dtype=float32)>]\n",
      "()\n",
      "[TensorShape([5, 3]), TensorShape([3])]\n"
     ]
    }
   ],
   "source": [
    "print(weight_posterior.sample(5))\n",
    "print(weight_posterior.batch_shape)\n",
    "print(weight_posterior.event_shape)\n"
   ]
  },
  {
   "cell_type": "code",
   "execution_count": 18,
   "id": "82e6d56f",
   "metadata": {},
   "outputs": [
    {
     "name": "stdout",
     "output_type": "stream",
     "text": [
      "tf.Tensor(\n",
      "[[[ 8.51410925e-01  3.80788982e-01  1.61915040e+00]\n",
      "  [ 7.99249649e-01  1.34933531e-01  5.29468298e-01]\n",
      "  [-8.76355648e-01 -1.23933184e+00  7.28454828e-01]\n",
      "  [-1.54124260e+00  1.76365983e+00  2.29737252e-01]\n",
      "  [-2.19800696e-01  1.13278544e+00 -4.69487399e-01]]\n",
      "\n",
      " [[-5.88677227e-01  5.89945540e-02 -1.94407380e+00]\n",
      "  [-4.23632234e-01  7.23942757e-01 -8.78119946e-01]\n",
      "  [-4.40934032e-01  1.52204013e+00  8.38449776e-01]\n",
      "  [-5.70991516e-01  4.22989696e-01 -2.84892112e-01]\n",
      "  [-3.96363676e-01 -8.88156295e-01  1.94174215e-01]]\n",
      "\n",
      " [[-4.90415026e-04  3.01149376e-02 -1.28273571e+00]\n",
      "  [-3.28183889e-01 -1.92466068e+00  9.99726892e-01]\n",
      "  [ 2.15764731e-01 -1.07253718e+00 -2.37776399e-01]\n",
      "  [-9.99145746e-01  1.27894831e+00 -3.81406635e-01]\n",
      "  [ 7.38356560e-02 -1.32684255e+00  5.59095740e-01]]\n",
      "\n",
      " [[-1.32847452e+00  1.34684667e-01  3.32941979e-01]\n",
      "  [ 2.02927089e+00  1.08894855e-01  2.14401307e-03]\n",
      "  [ 1.08220923e+00 -4.87906843e-01 -7.61657596e-01]\n",
      "  [-6.91805482e-01  9.12398517e-01  1.07372987e+00]\n",
      "  [ 1.48202693e+00  1.17562795e+00  7.47611582e-01]]\n",
      "\n",
      " [[ 1.76275039e+00 -1.07951176e+00 -8.60032022e-01]\n",
      "  [-9.76063609e-02 -1.46054780e+00 -1.07729959e+00]\n",
      "  [ 1.54099941e+00  1.63863468e+00  2.74887383e-01]\n",
      "  [-8.08984816e-01  5.64929187e-01 -2.49989390e+00]\n",
      "  [-1.72894609e+00 -2.07101393e+00 -8.36721838e-01]]\n",
      "\n",
      " [[-1.45964038e+00  3.27117622e-01  1.43888378e+00]\n",
      "  [-1.25302076e+00 -1.38432813e+00 -4.34700400e-01]\n",
      "  [-1.34562245e-02 -1.87819684e+00  2.00857902e+00]\n",
      "  [ 6.83503985e-01  3.08969487e-02  1.44295347e+00]\n",
      "  [ 7.07718506e-02 -9.41665590e-01  6.51367784e-01]]\n",
      "\n",
      " [[ 3.01989138e-01  4.99761730e-01  1.71117795e+00]\n",
      "  [-1.14835054e-01  1.12909925e+00 -6.68139398e-01]\n",
      "  [ 1.00720477e+00 -1.24690914e+00 -2.54817319e+00]\n",
      "  [-8.32141161e-01  6.53460145e-01  3.37305576e-01]\n",
      "  [ 4.73907769e-01 -6.55781209e-01  1.47173464e+00]]], shape=(7, 5, 3), dtype=float32)\n",
      "tf.Tensor(\n",
      "[[-0.32625642 -1.5554326  -1.3853469 ]\n",
      " [ 0.00318867  0.5953822  -0.58557576]\n",
      " [-0.5830249   2.5067716   1.2896934 ]\n",
      " [-0.2570973  -0.95289993  0.5167044 ]\n",
      " [-1.2639438   0.49971095 -1.5241348 ]\n",
      " [-0.14181434  0.41335255 -0.9111221 ]\n",
      " [-1.2150005   1.9182705   0.7719303 ]], shape=(7, 3), dtype=float32)\n"
     ]
    }
   ],
   "source": [
    "print(kernel)\n",
    "print(bias)"
   ]
  },
  {
   "cell_type": "code",
   "execution_count": 21,
   "id": "e0636a24",
   "metadata": {},
   "outputs": [
    {
     "name": "stdout",
     "output_type": "stream",
     "text": [
      "[<tf.Tensor: shape=(7, 5, 3), dtype=float32, numpy=\n",
      "array([[[-5.88677227e-01,  5.89945540e-02, -1.94407380e+00],\n",
      "        [-4.23632234e-01,  7.23942757e-01, -8.78119946e-01],\n",
      "        [-4.40934032e-01,  1.52204013e+00,  8.38449776e-01],\n",
      "        [-5.70991516e-01,  4.22989696e-01, -2.84892112e-01],\n",
      "        [-3.96363676e-01, -8.88156295e-01,  1.94174215e-01]],\n",
      "\n",
      "       [[-1.32847452e+00,  1.34684667e-01,  3.32941979e-01],\n",
      "        [ 2.02927089e+00,  1.08894855e-01,  2.14401307e-03],\n",
      "        [ 1.08220923e+00, -4.87906843e-01, -7.61657596e-01],\n",
      "        [-6.91805482e-01,  9.12398517e-01,  1.07372987e+00],\n",
      "        [ 1.48202693e+00,  1.17562795e+00,  7.47611582e-01]],\n",
      "\n",
      "       [[ 3.01989138e-01,  4.99761730e-01,  1.71117795e+00],\n",
      "        [-1.14835054e-01,  1.12909925e+00, -6.68139398e-01],\n",
      "        [ 1.00720477e+00, -1.24690914e+00, -2.54817319e+00],\n",
      "        [-8.32141161e-01,  6.53460145e-01,  3.37305576e-01],\n",
      "        [ 4.73907769e-01, -6.55781209e-01,  1.47173464e+00]],\n",
      "\n",
      "       [[-5.88677227e-01,  5.89945540e-02, -1.94407380e+00],\n",
      "        [-4.23632234e-01,  7.23942757e-01, -8.78119946e-01],\n",
      "        [-4.40934032e-01,  1.52204013e+00,  8.38449776e-01],\n",
      "        [-5.70991516e-01,  4.22989696e-01, -2.84892112e-01],\n",
      "        [-3.96363676e-01, -8.88156295e-01,  1.94174215e-01]],\n",
      "\n",
      "       [[-4.90415026e-04,  3.01149376e-02, -1.28273571e+00],\n",
      "        [-3.28183889e-01, -1.92466068e+00,  9.99726892e-01],\n",
      "        [ 2.15764731e-01, -1.07253718e+00, -2.37776399e-01],\n",
      "        [-9.99145746e-01,  1.27894831e+00, -3.81406635e-01],\n",
      "        [ 7.38356560e-02, -1.32684255e+00,  5.59095740e-01]],\n",
      "\n",
      "       [[-1.32847452e+00,  1.34684667e-01,  3.32941979e-01],\n",
      "        [ 2.02927089e+00,  1.08894855e-01,  2.14401307e-03],\n",
      "        [ 1.08220923e+00, -4.87906843e-01, -7.61657596e-01],\n",
      "        [-6.91805482e-01,  9.12398517e-01,  1.07372987e+00],\n",
      "        [ 1.48202693e+00,  1.17562795e+00,  7.47611582e-01]],\n",
      "\n",
      "       [[-1.32847452e+00,  1.34684667e-01,  3.32941979e-01],\n",
      "        [ 2.02927089e+00,  1.08894855e-01,  2.14401307e-03],\n",
      "        [ 1.08220923e+00, -4.87906843e-01, -7.61657596e-01],\n",
      "        [-6.91805482e-01,  9.12398517e-01,  1.07372987e+00],\n",
      "        [ 1.48202693e+00,  1.17562795e+00,  7.47611582e-01]]],\n",
      "      dtype=float32)>, <tf.Tensor: shape=(7, 3), dtype=float32, numpy=\n",
      "array([[-0.5830249 ,  2.5067716 ,  1.2896934 ],\n",
      "       [-0.2570973 , -0.95289993,  0.5167044 ],\n",
      "       [-0.14181434,  0.41335255, -0.9111221 ],\n",
      "       [-0.32625642, -1.5554326 , -1.3853469 ],\n",
      "       [-0.32625642, -1.5554326 , -1.3853469 ],\n",
      "       [-0.32625642, -1.5554326 , -1.3853469 ],\n",
      "       [-0.14181434,  0.41335255, -0.9111221 ]], dtype=float32)>]\n"
     ]
    }
   ],
   "source": [
    "print(weight_posterior.sample(7))"
   ]
  },
  {
   "cell_type": "code",
   "execution_count": 22,
   "id": "46d8f5e4",
   "metadata": {},
   "outputs": [],
   "source": [
    "kernel_prior = tfp.distributions.Normal(loc=0., scale=1.)\n",
    "bias_prior = tfp.distributions.Normal(loc=0., scale=1.)\n",
    "weight_prior = tfp.distributions.JointDistributionSequential([\n",
    "    kernel_prior,\n",
    "    bias_prior\n",
    "])"
   ]
  },
  {
   "cell_type": "code",
   "execution_count": 23,
   "id": "3b129699",
   "metadata": {},
   "outputs": [],
   "source": [
    "tfk = tf.keras\n",
    "tfkl = tf.keras.layers\n",
    "tfd = tfp.distributions\n",
    "tfpl = tfp.layers"
   ]
  },
  {
   "cell_type": "code",
   "execution_count": 42,
   "id": "bd29c5a1",
   "metadata": {},
   "outputs": [],
   "source": []
  },
  {
   "cell_type": "code",
   "execution_count": 43,
   "id": "35c82d63",
   "metadata": {},
   "outputs": [],
   "source": [
    "x = tf.random.normal(shape=(1, 5))"
   ]
  },
  {
   "cell_type": "code",
   "execution_count": 44,
   "id": "8402bd05",
   "metadata": {},
   "outputs": [
    {
     "ename": "TypeError",
     "evalue": "Exception encountered when calling layer \"distribution_lambda_4\" (type DistributionLambda).\n\n[[[ 8.51410925e-01  3.80788982e-01  1.61915040e+00]\n  [ 7.99249649e-01  1.34933531e-01  5.29468298e-01]\n  [-8.76355648e-01 -1.23933184e+00  7.28454828e-01]\n  [-1.54124260e+00  1.76365983e+00  2.29737252e-01]\n  [-2.19800696e-01  1.13278544e+00 -4.69487399e-01]]\n\n [[-5.88677227e-01  5.89945540e-02 -1.94407380e+00]\n  [-4.23632234e-01  7.23942757e-01 -8.78119946e-01]\n  [-4.40934032e-01  1.52204013e+00  8.38449776e-01]\n  [-5.70991516e-01  4.22989696e-01 -2.84892112e-01]\n  [-3.96363676e-01 -8.88156295e-01  1.94174215e-01]]\n\n [[-4.90415026e-04  3.01149376e-02 -1.28273571e+00]\n  [-3.28183889e-01 -1.92466068e+00  9.99726892e-01]\n  [ 2.15764731e-01 -1.07253718e+00 -2.37776399e-01]\n  [-9.99145746e-01  1.27894831e+00 -3.81406635e-01]\n  [ 7.38356560e-02 -1.32684255e+00  5.59095740e-01]]\n\n [[-1.32847452e+00  1.34684667e-01  3.32941979e-01]\n  [ 2.02927089e+00  1.08894855e-01  2.14401307e-03]\n  [ 1.08220923e+00 -4.87906843e-01 -7.61657596e-01]\n  [-6.91805482e-01  9.12398517e-01  1.07372987e+00]\n  [ 1.48202693e+00  1.17562795e+00  7.47611582e-01]]\n\n [[ 1.76275039e+00 -1.07951176e+00 -8.60032022e-01]\n  [-9.76063609e-02 -1.46054780e+00 -1.07729959e+00]\n  [ 1.54099941e+00  1.63863468e+00  2.74887383e-01]\n  [-8.08984816e-01  5.64929187e-01 -2.49989390e+00]\n  [-1.72894609e+00 -2.07101393e+00 -8.36721838e-01]]\n\n [[-1.45964038e+00  3.27117622e-01  1.43888378e+00]\n  [-1.25302076e+00 -1.38432813e+00 -4.34700400e-01]\n  [-1.34562245e-02 -1.87819684e+00  2.00857902e+00]\n  [ 6.83503985e-01  3.08969487e-02  1.44295347e+00]\n  [ 7.07718506e-02 -9.41665590e-01  6.51367784e-01]]\n\n [[ 3.01989138e-01  4.99761730e-01  1.71117795e+00]\n  [-1.14835054e-01  1.12909925e+00 -6.68139398e-01]\n  [ 1.00720477e+00 -1.24690914e+00 -2.54817319e+00]\n  [-8.32141161e-01  6.53460145e-01  3.37305576e-01]\n  [ 4.73907769e-01 -6.55781209e-01  1.47173464e+00]]] must be either `tfd.Distribution`-like or `callable`.\n\nCall arguments received:\n  • inputs=tf.Tensor(shape=(1, 5), dtype=float32)\n  • args=<class 'inspect._empty'>\n  • kwargs={'training': 'None'}",
     "output_type": "error",
     "traceback": [
      "\u001b[0;31m---------------------------------------------------------------------------\u001b[0m",
      "\u001b[0;31mTypeError\u001b[0m                                 Traceback (most recent call last)",
      "\u001b[0;32m/var/folders/7c/2n3ws68d3rb2xw9b37v1zkxm0000gn/T/ipykernel_46785/3720343298.py\u001b[0m in \u001b[0;36m<module>\u001b[0;34m\u001b[0m\n\u001b[0;32m----> 1\u001b[0;31m \u001b[0mmodel\u001b[0m\u001b[0;34m.\u001b[0m\u001b[0mcall\u001b[0m\u001b[0;34m(\u001b[0m\u001b[0mx\u001b[0m\u001b[0;34m)\u001b[0m\u001b[0;34m\u001b[0m\u001b[0;34m\u001b[0m\u001b[0m\n\u001b[0m",
      "\u001b[0;32m~/miniforge3/lib/python3.9/site-packages/keras/engine/sequential.py\u001b[0m in \u001b[0;36mcall\u001b[0;34m(self, inputs, training, mask)\u001b[0m\n\u001b[1;32m    385\u001b[0m         \u001b[0mkwargs\u001b[0m\u001b[0;34m[\u001b[0m\u001b[0;34m'training'\u001b[0m\u001b[0;34m]\u001b[0m \u001b[0;34m=\u001b[0m \u001b[0mtraining\u001b[0m\u001b[0;34m\u001b[0m\u001b[0;34m\u001b[0m\u001b[0m\n\u001b[1;32m    386\u001b[0m \u001b[0;34m\u001b[0m\u001b[0m\n\u001b[0;32m--> 387\u001b[0;31m       \u001b[0moutputs\u001b[0m \u001b[0;34m=\u001b[0m \u001b[0mlayer\u001b[0m\u001b[0;34m(\u001b[0m\u001b[0minputs\u001b[0m\u001b[0;34m,\u001b[0m \u001b[0;34m**\u001b[0m\u001b[0mkwargs\u001b[0m\u001b[0;34m)\u001b[0m\u001b[0;34m\u001b[0m\u001b[0;34m\u001b[0m\u001b[0m\n\u001b[0m\u001b[1;32m    388\u001b[0m \u001b[0;34m\u001b[0m\u001b[0m\n\u001b[1;32m    389\u001b[0m       \u001b[0;32mif\u001b[0m \u001b[0mlen\u001b[0m\u001b[0;34m(\u001b[0m\u001b[0mtf\u001b[0m\u001b[0;34m.\u001b[0m\u001b[0mnest\u001b[0m\u001b[0;34m.\u001b[0m\u001b[0mflatten\u001b[0m\u001b[0;34m(\u001b[0m\u001b[0moutputs\u001b[0m\u001b[0;34m)\u001b[0m\u001b[0;34m)\u001b[0m \u001b[0;34m!=\u001b[0m \u001b[0;36m1\u001b[0m\u001b[0;34m:\u001b[0m\u001b[0;34m\u001b[0m\u001b[0;34m\u001b[0m\u001b[0m\n",
      "\u001b[0;32m~/miniforge3/lib/python3.9/site-packages/tensorflow_probability/python/layers/distribution_layer.py\u001b[0m in \u001b[0;36m__call__\u001b[0;34m(self, inputs, *args, **kwargs)\u001b[0m\n\u001b[1;32m    218\u001b[0m   \u001b[0;32mdef\u001b[0m \u001b[0m__call__\u001b[0m\u001b[0;34m(\u001b[0m\u001b[0mself\u001b[0m\u001b[0;34m,\u001b[0m \u001b[0minputs\u001b[0m\u001b[0;34m,\u001b[0m \u001b[0;34m*\u001b[0m\u001b[0margs\u001b[0m\u001b[0;34m,\u001b[0m \u001b[0;34m**\u001b[0m\u001b[0mkwargs\u001b[0m\u001b[0;34m)\u001b[0m\u001b[0;34m:\u001b[0m\u001b[0;34m\u001b[0m\u001b[0;34m\u001b[0m\u001b[0m\n\u001b[1;32m    219\u001b[0m     \u001b[0mself\u001b[0m\u001b[0;34m.\u001b[0m\u001b[0m_enter_dunder_call\u001b[0m \u001b[0;34m=\u001b[0m \u001b[0;32mTrue\u001b[0m\u001b[0;34m\u001b[0m\u001b[0;34m\u001b[0m\u001b[0m\n\u001b[0;32m--> 220\u001b[0;31m     distribution, _ = super(DistributionLambda, self).__call__(\n\u001b[0m\u001b[1;32m    221\u001b[0m         inputs, *args, **kwargs)\n\u001b[1;32m    222\u001b[0m     \u001b[0mself\u001b[0m\u001b[0;34m.\u001b[0m\u001b[0m_enter_dunder_call\u001b[0m \u001b[0;34m=\u001b[0m \u001b[0;32mFalse\u001b[0m\u001b[0;34m\u001b[0m\u001b[0;34m\u001b[0m\u001b[0m\n",
      "\u001b[0;32m~/miniforge3/lib/python3.9/site-packages/keras/utils/traceback_utils.py\u001b[0m in \u001b[0;36merror_handler\u001b[0;34m(*args, **kwargs)\u001b[0m\n\u001b[1;32m     65\u001b[0m     \u001b[0;32mexcept\u001b[0m \u001b[0mException\u001b[0m \u001b[0;32mas\u001b[0m \u001b[0me\u001b[0m\u001b[0;34m:\u001b[0m  \u001b[0;31m# pylint: disable=broad-except\u001b[0m\u001b[0;34m\u001b[0m\u001b[0;34m\u001b[0m\u001b[0m\n\u001b[1;32m     66\u001b[0m       \u001b[0mfiltered_tb\u001b[0m \u001b[0;34m=\u001b[0m \u001b[0m_process_traceback_frames\u001b[0m\u001b[0;34m(\u001b[0m\u001b[0me\u001b[0m\u001b[0;34m.\u001b[0m\u001b[0m__traceback__\u001b[0m\u001b[0;34m)\u001b[0m\u001b[0;34m\u001b[0m\u001b[0;34m\u001b[0m\u001b[0m\n\u001b[0;32m---> 67\u001b[0;31m       \u001b[0;32mraise\u001b[0m \u001b[0me\u001b[0m\u001b[0;34m.\u001b[0m\u001b[0mwith_traceback\u001b[0m\u001b[0;34m(\u001b[0m\u001b[0mfiltered_tb\u001b[0m\u001b[0;34m)\u001b[0m \u001b[0;32mfrom\u001b[0m \u001b[0;32mNone\u001b[0m\u001b[0;34m\u001b[0m\u001b[0;34m\u001b[0m\u001b[0m\n\u001b[0m\u001b[1;32m     68\u001b[0m     \u001b[0;32mfinally\u001b[0m\u001b[0;34m:\u001b[0m\u001b[0;34m\u001b[0m\u001b[0;34m\u001b[0m\u001b[0m\n\u001b[1;32m     69\u001b[0m       \u001b[0;32mdel\u001b[0m \u001b[0mfiltered_tb\u001b[0m\u001b[0;34m\u001b[0m\u001b[0;34m\u001b[0m\u001b[0m\n",
      "\u001b[0;32m~/miniforge3/lib/python3.9/site-packages/tensorflow_probability/python/layers/distribution_layer.py\u001b[0m in \u001b[0;36mcall\u001b[0;34m(self, inputs, *args, **kwargs)\u001b[0m\n\u001b[1;32m    224\u001b[0m \u001b[0;34m\u001b[0m\u001b[0m\n\u001b[1;32m    225\u001b[0m   \u001b[0;32mdef\u001b[0m \u001b[0mcall\u001b[0m\u001b[0;34m(\u001b[0m\u001b[0mself\u001b[0m\u001b[0;34m,\u001b[0m \u001b[0minputs\u001b[0m\u001b[0;34m,\u001b[0m \u001b[0;34m*\u001b[0m\u001b[0margs\u001b[0m\u001b[0;34m,\u001b[0m \u001b[0;34m**\u001b[0m\u001b[0mkwargs\u001b[0m\u001b[0;34m)\u001b[0m\u001b[0;34m:\u001b[0m\u001b[0;34m\u001b[0m\u001b[0;34m\u001b[0m\u001b[0m\n\u001b[0;32m--> 226\u001b[0;31m     distribution, value = super(DistributionLambda, self).call(\n\u001b[0m\u001b[1;32m    227\u001b[0m         inputs, *args, **kwargs)\n\u001b[1;32m    228\u001b[0m     \u001b[0;31m# We always save the most recently built distribution variables for tracking\u001b[0m\u001b[0;34m\u001b[0m\u001b[0;34m\u001b[0m\u001b[0m\n",
      "\u001b[0;32m~/miniforge3/lib/python3.9/site-packages/tensorflow_probability/python/layers/distribution_layer.py\u001b[0m in \u001b[0;36m_fn\u001b[0;34m(*fargs, **fkwargs)\u001b[0m\n\u001b[1;32m    164\u001b[0m     \u001b[0;32mdef\u001b[0m \u001b[0m_fn\u001b[0m\u001b[0;34m(\u001b[0m\u001b[0;34m*\u001b[0m\u001b[0mfargs\u001b[0m\u001b[0;34m,\u001b[0m \u001b[0;34m**\u001b[0m\u001b[0mfkwargs\u001b[0m\u001b[0;34m)\u001b[0m\u001b[0;34m:\u001b[0m\u001b[0;34m\u001b[0m\u001b[0;34m\u001b[0m\u001b[0m\n\u001b[1;32m    165\u001b[0m       \u001b[0;34m\"\"\"Wraps `make_distribution_fn` to return both dist and concrete value.\"\"\"\u001b[0m\u001b[0;34m\u001b[0m\u001b[0;34m\u001b[0m\u001b[0m\n\u001b[0;32m--> 166\u001b[0;31m       \u001b[0md\u001b[0m \u001b[0;34m=\u001b[0m \u001b[0mmake_distribution_fn\u001b[0m\u001b[0;34m(\u001b[0m\u001b[0;34m*\u001b[0m\u001b[0mfargs\u001b[0m\u001b[0;34m,\u001b[0m \u001b[0;34m**\u001b[0m\u001b[0mfkwargs\u001b[0m\u001b[0;34m)\u001b[0m\u001b[0;34m\u001b[0m\u001b[0;34m\u001b[0m\u001b[0m\n\u001b[0m\u001b[1;32m    167\u001b[0m       \u001b[0mvalue_is_seq\u001b[0m \u001b[0;34m=\u001b[0m \u001b[0misinstance\u001b[0m\u001b[0;34m(\u001b[0m\u001b[0md\u001b[0m\u001b[0;34m.\u001b[0m\u001b[0mdtype\u001b[0m\u001b[0;34m,\u001b[0m \u001b[0mcollections\u001b[0m\u001b[0;34m.\u001b[0m\u001b[0mSequence\u001b[0m\u001b[0;34m)\u001b[0m\u001b[0;34m\u001b[0m\u001b[0;34m\u001b[0m\u001b[0m\n\u001b[1;32m    168\u001b[0m       maybe_composite_convert_to_tensor_fn = (\n",
      "\u001b[0;32m/var/folders/7c/2n3ws68d3rb2xw9b37v1zkxm0000gn/T/ipykernel_46785/2353990768.py\u001b[0m in \u001b[0;36m<lambda>\u001b[0;34m(t)\u001b[0m\n\u001b[1;32m      2\u001b[0m     [\n\u001b[1;32m      3\u001b[0m         tfpl.DistributionLambda(\n\u001b[0;32m----> 4\u001b[0;31m             make_distribution_fn=lambda t: tfd.JointDistributionSequential([\n\u001b[0m\u001b[1;32m      5\u001b[0m                 \u001b[0mkernel\u001b[0m\u001b[0;34m,\u001b[0m\u001b[0;34m\u001b[0m\u001b[0;34m\u001b[0m\u001b[0m\n\u001b[1;32m      6\u001b[0m                 \u001b[0mbias\u001b[0m\u001b[0;34m\u001b[0m\u001b[0;34m\u001b[0m\u001b[0m\n",
      "\u001b[0;32m~/miniforge3/lib/python3.9/site-packages/decorator.py\u001b[0m in \u001b[0;36mfun\u001b[0;34m(*args, **kw)\u001b[0m\n\u001b[1;32m    230\u001b[0m             \u001b[0;32mif\u001b[0m \u001b[0;32mnot\u001b[0m \u001b[0mkwsyntax\u001b[0m\u001b[0;34m:\u001b[0m\u001b[0;34m\u001b[0m\u001b[0;34m\u001b[0m\u001b[0m\n\u001b[1;32m    231\u001b[0m                 \u001b[0margs\u001b[0m\u001b[0;34m,\u001b[0m \u001b[0mkw\u001b[0m \u001b[0;34m=\u001b[0m \u001b[0mfix\u001b[0m\u001b[0;34m(\u001b[0m\u001b[0margs\u001b[0m\u001b[0;34m,\u001b[0m \u001b[0mkw\u001b[0m\u001b[0;34m,\u001b[0m \u001b[0msig\u001b[0m\u001b[0;34m)\u001b[0m\u001b[0;34m\u001b[0m\u001b[0;34m\u001b[0m\u001b[0m\n\u001b[0;32m--> 232\u001b[0;31m             \u001b[0;32mreturn\u001b[0m \u001b[0mcaller\u001b[0m\u001b[0;34m(\u001b[0m\u001b[0mfunc\u001b[0m\u001b[0;34m,\u001b[0m \u001b[0;34m*\u001b[0m\u001b[0;34m(\u001b[0m\u001b[0mextras\u001b[0m \u001b[0;34m+\u001b[0m \u001b[0margs\u001b[0m\u001b[0;34m)\u001b[0m\u001b[0;34m,\u001b[0m \u001b[0;34m**\u001b[0m\u001b[0mkw\u001b[0m\u001b[0;34m)\u001b[0m\u001b[0;34m\u001b[0m\u001b[0;34m\u001b[0m\u001b[0m\n\u001b[0m\u001b[1;32m    233\u001b[0m     \u001b[0mfun\u001b[0m\u001b[0;34m.\u001b[0m\u001b[0m__name__\u001b[0m \u001b[0;34m=\u001b[0m \u001b[0mfunc\u001b[0m\u001b[0;34m.\u001b[0m\u001b[0m__name__\u001b[0m\u001b[0;34m\u001b[0m\u001b[0;34m\u001b[0m\u001b[0m\n\u001b[1;32m    234\u001b[0m     \u001b[0mfun\u001b[0m\u001b[0;34m.\u001b[0m\u001b[0m__doc__\u001b[0m \u001b[0;34m=\u001b[0m \u001b[0mfunc\u001b[0m\u001b[0;34m.\u001b[0m\u001b[0m__doc__\u001b[0m\u001b[0;34m\u001b[0m\u001b[0;34m\u001b[0m\u001b[0m\n",
      "\u001b[0;32m~/miniforge3/lib/python3.9/site-packages/tensorflow_probability/python/distributions/distribution.py\u001b[0m in \u001b[0;36mwrapped_init\u001b[0;34m(***failed resolving arguments***)\u001b[0m\n\u001b[1;32m    340\u001b[0m       \u001b[0;31m# called, here is the place to do it.\u001b[0m\u001b[0;34m\u001b[0m\u001b[0;34m\u001b[0m\u001b[0m\n\u001b[1;32m    341\u001b[0m       \u001b[0mself_\u001b[0m\u001b[0;34m.\u001b[0m\u001b[0m_parameters\u001b[0m \u001b[0;34m=\u001b[0m \u001b[0;32mNone\u001b[0m\u001b[0;34m\u001b[0m\u001b[0;34m\u001b[0m\u001b[0m\n\u001b[0;32m--> 342\u001b[0;31m       \u001b[0mdefault_init\u001b[0m\u001b[0;34m(\u001b[0m\u001b[0mself_\u001b[0m\u001b[0;34m,\u001b[0m \u001b[0;34m*\u001b[0m\u001b[0margs\u001b[0m\u001b[0;34m,\u001b[0m \u001b[0;34m**\u001b[0m\u001b[0mkwargs\u001b[0m\u001b[0;34m)\u001b[0m\u001b[0;34m\u001b[0m\u001b[0;34m\u001b[0m\u001b[0m\n\u001b[0m\u001b[1;32m    343\u001b[0m       \u001b[0;31m# Note: if we ever want to override things set in `self` by subclass\u001b[0m\u001b[0;34m\u001b[0m\u001b[0;34m\u001b[0m\u001b[0m\n\u001b[1;32m    344\u001b[0m       \u001b[0;31m# `__init__`, here is the place to do it.\u001b[0m\u001b[0;34m\u001b[0m\u001b[0;34m\u001b[0m\u001b[0m\n",
      "\u001b[0;32m~/miniforge3/lib/python3.9/site-packages/tensorflow_probability/python/distributions/joint_distribution_sequential.py\u001b[0m in \u001b[0;36m__init__\u001b[0;34m(self, model, batch_ndims, use_vectorized_map, validate_args, experimental_use_kahan_sum, name)\u001b[0m\n\u001b[1;32m    353\u001b[0m       \u001b[0mself\u001b[0m\u001b[0;34m.\u001b[0m\u001b[0m_model_trackable\u001b[0m \u001b[0;34m=\u001b[0m \u001b[0mmodel\u001b[0m\u001b[0;34m\u001b[0m\u001b[0;34m\u001b[0m\u001b[0m\n\u001b[1;32m    354\u001b[0m       \u001b[0mself\u001b[0m\u001b[0;34m.\u001b[0m\u001b[0m_model\u001b[0m \u001b[0;34m=\u001b[0m \u001b[0mself\u001b[0m\u001b[0;34m.\u001b[0m\u001b[0m_no_dependency\u001b[0m\u001b[0;34m(\u001b[0m\u001b[0mmodel\u001b[0m\u001b[0;34m)\u001b[0m\u001b[0;34m\u001b[0m\u001b[0;34m\u001b[0m\u001b[0m\n\u001b[0;32m--> 355\u001b[0;31m       \u001b[0mself\u001b[0m\u001b[0;34m.\u001b[0m\u001b[0m_build\u001b[0m\u001b[0;34m(\u001b[0m\u001b[0mmodel\u001b[0m\u001b[0;34m)\u001b[0m\u001b[0;34m\u001b[0m\u001b[0;34m\u001b[0m\u001b[0m\n\u001b[0m\u001b[1;32m    356\u001b[0m \u001b[0;34m\u001b[0m\u001b[0m\n\u001b[1;32m    357\u001b[0m       super(JointDistributionSequential, self).__init__(\n",
      "\u001b[0;32m~/miniforge3/lib/python3.9/site-packages/tensorflow_probability/python/distributions/joint_distribution_sequential.py\u001b[0m in \u001b[0;36m_build\u001b[0;34m(self, model)\u001b[0m\n\u001b[1;32m    383\u001b[0m           type(model).__name__))\n\u001b[1;32m    384\u001b[0m     \u001b[0mself\u001b[0m\u001b[0;34m.\u001b[0m\u001b[0m_dist_fn\u001b[0m \u001b[0;34m=\u001b[0m \u001b[0mmodel\u001b[0m\u001b[0;34m\u001b[0m\u001b[0;34m\u001b[0m\u001b[0m\n\u001b[0;32m--> 385\u001b[0;31m     self._dist_fn_wrapped, self._dist_fn_args = zip(*[\n\u001b[0m\u001b[1;32m    386\u001b[0m         \u001b[0m_unify_call_signature\u001b[0m\u001b[0;34m(\u001b[0m\u001b[0mi\u001b[0m\u001b[0;34m,\u001b[0m \u001b[0mdist_fn\u001b[0m\u001b[0;34m)\u001b[0m\u001b[0;34m\u001b[0m\u001b[0;34m\u001b[0m\u001b[0m\n\u001b[1;32m    387\u001b[0m         for i, dist_fn in enumerate(model)])\n",
      "\u001b[0;32m~/miniforge3/lib/python3.9/site-packages/tensorflow_probability/python/distributions/joint_distribution_sequential.py\u001b[0m in \u001b[0;36m<listcomp>\u001b[0;34m(.0)\u001b[0m\n\u001b[1;32m    384\u001b[0m     \u001b[0mself\u001b[0m\u001b[0;34m.\u001b[0m\u001b[0m_dist_fn\u001b[0m \u001b[0;34m=\u001b[0m \u001b[0mmodel\u001b[0m\u001b[0;34m\u001b[0m\u001b[0;34m\u001b[0m\u001b[0m\n\u001b[1;32m    385\u001b[0m     self._dist_fn_wrapped, self._dist_fn_args = zip(*[\n\u001b[0;32m--> 386\u001b[0;31m         \u001b[0m_unify_call_signature\u001b[0m\u001b[0;34m(\u001b[0m\u001b[0mi\u001b[0m\u001b[0;34m,\u001b[0m \u001b[0mdist_fn\u001b[0m\u001b[0;34m)\u001b[0m\u001b[0;34m\u001b[0m\u001b[0;34m\u001b[0m\u001b[0m\n\u001b[0m\u001b[1;32m    387\u001b[0m         for i, dist_fn in enumerate(model)])\n\u001b[1;32m    388\u001b[0m \u001b[0;34m\u001b[0m\u001b[0m\n",
      "\u001b[0;32m~/miniforge3/lib/python3.9/site-packages/tensorflow_probability/python/distributions/joint_distribution_sequential.py\u001b[0m in \u001b[0;36m_unify_call_signature\u001b[0;34m(i, dist_fn)\u001b[0m\n\u001b[1;32m    581\u001b[0m \u001b[0;34m\u001b[0m\u001b[0m\n\u001b[1;32m    582\u001b[0m   \u001b[0;32mif\u001b[0m \u001b[0;32mnot\u001b[0m \u001b[0mcallable\u001b[0m\u001b[0;34m(\u001b[0m\u001b[0mdist_fn\u001b[0m\u001b[0;34m)\u001b[0m\u001b[0;34m:\u001b[0m\u001b[0;34m\u001b[0m\u001b[0;34m\u001b[0m\u001b[0m\n\u001b[0;32m--> 583\u001b[0;31m     raise TypeError('{} must be either `tfd.Distribution`-like or '\n\u001b[0m\u001b[1;32m    584\u001b[0m                     '`callable`.'.format(dist_fn))\n\u001b[1;32m    585\u001b[0m \u001b[0;34m\u001b[0m\u001b[0m\n",
      "\u001b[0;31mTypeError\u001b[0m: Exception encountered when calling layer \"distribution_lambda_4\" (type DistributionLambda).\n\n[[[ 8.51410925e-01  3.80788982e-01  1.61915040e+00]\n  [ 7.99249649e-01  1.34933531e-01  5.29468298e-01]\n  [-8.76355648e-01 -1.23933184e+00  7.28454828e-01]\n  [-1.54124260e+00  1.76365983e+00  2.29737252e-01]\n  [-2.19800696e-01  1.13278544e+00 -4.69487399e-01]]\n\n [[-5.88677227e-01  5.89945540e-02 -1.94407380e+00]\n  [-4.23632234e-01  7.23942757e-01 -8.78119946e-01]\n  [-4.40934032e-01  1.52204013e+00  8.38449776e-01]\n  [-5.70991516e-01  4.22989696e-01 -2.84892112e-01]\n  [-3.96363676e-01 -8.88156295e-01  1.94174215e-01]]\n\n [[-4.90415026e-04  3.01149376e-02 -1.28273571e+00]\n  [-3.28183889e-01 -1.92466068e+00  9.99726892e-01]\n  [ 2.15764731e-01 -1.07253718e+00 -2.37776399e-01]\n  [-9.99145746e-01  1.27894831e+00 -3.81406635e-01]\n  [ 7.38356560e-02 -1.32684255e+00  5.59095740e-01]]\n\n [[-1.32847452e+00  1.34684667e-01  3.32941979e-01]\n  [ 2.02927089e+00  1.08894855e-01  2.14401307e-03]\n  [ 1.08220923e+00 -4.87906843e-01 -7.61657596e-01]\n  [-6.91805482e-01  9.12398517e-01  1.07372987e+00]\n  [ 1.48202693e+00  1.17562795e+00  7.47611582e-01]]\n\n [[ 1.76275039e+00 -1.07951176e+00 -8.60032022e-01]\n  [-9.76063609e-02 -1.46054780e+00 -1.07729959e+00]\n  [ 1.54099941e+00  1.63863468e+00  2.74887383e-01]\n  [-8.08984816e-01  5.64929187e-01 -2.49989390e+00]\n  [-1.72894609e+00 -2.07101393e+00 -8.36721838e-01]]\n\n [[-1.45964038e+00  3.27117622e-01  1.43888378e+00]\n  [-1.25302076e+00 -1.38432813e+00 -4.34700400e-01]\n  [-1.34562245e-02 -1.87819684e+00  2.00857902e+00]\n  [ 6.83503985e-01  3.08969487e-02  1.44295347e+00]\n  [ 7.07718506e-02 -9.41665590e-01  6.51367784e-01]]\n\n [[ 3.01989138e-01  4.99761730e-01  1.71117795e+00]\n  [-1.14835054e-01  1.12909925e+00 -6.68139398e-01]\n  [ 1.00720477e+00 -1.24690914e+00 -2.54817319e+00]\n  [-8.32141161e-01  6.53460145e-01  3.37305576e-01]\n  [ 4.73907769e-01 -6.55781209e-01  1.47173464e+00]]] must be either `tfd.Distribution`-like or `callable`.\n\nCall arguments received:\n  • inputs=tf.Tensor(shape=(1, 5), dtype=float32)\n  • args=<class 'inspect._empty'>\n  • kwargs={'training': 'None'}"
     ]
    }
   ],
   "source": [
    "model.call(x)"
   ]
  },
  {
   "cell_type": "code",
   "execution_count": null,
   "id": "3c8dae03",
   "metadata": {},
   "outputs": [],
   "source": []
  }
 ],
 "metadata": {
  "kernelspec": {
   "display_name": "Python 3.9.7 64-bit ('base': conda)",
   "language": "python",
   "name": "python397jvsc74a57bd044ff99d3af02f09e383a3ffce177a5afc09212563ff719d1be2a4f8771c8cd81"
  },
  "language_info": {
   "codemirror_mode": {
    "name": "ipython",
    "version": 3
   },
   "file_extension": ".py",
   "mimetype": "text/x-python",
   "name": "python",
   "nbconvert_exporter": "python",
   "pygments_lexer": "ipython3",
   "version": "3.9.9"
  }
 },
 "nbformat": 4,
 "nbformat_minor": 5
}
