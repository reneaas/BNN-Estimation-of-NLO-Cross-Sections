{
 "cells": [
  {
   "cell_type": "code",
   "execution_count": 1,
   "id": "3efb94e4",
   "metadata": {},
   "outputs": [],
   "source": [
    "import tensorflow as tf \n",
    "import tensorflow_probability as tfp"
   ]
  },
  {
   "cell_type": "code",
   "execution_count": 2,
   "id": "b5b1cd89",
   "metadata": {},
   "outputs": [],
   "source": [
    "n = 5\n",
    "m = 3\n",
    "num_chains = 7"
   ]
  },
  {
   "cell_type": "code",
   "execution_count": 3,
   "id": "a06b481b",
   "metadata": {},
   "outputs": [
    {
     "name": "stdout",
     "output_type": "stream",
     "text": [
      "Metal device set to: Apple M1\n",
      "\n",
      "systemMemory: 8.00 GB\n",
      "maxCacheSize: 2.67 GB\n",
      "\n"
     ]
    },
    {
     "name": "stderr",
     "output_type": "stream",
     "text": [
      "2022-01-01 23:43:38.950745: I tensorflow/core/common_runtime/pluggable_device/pluggable_device_factory.cc:305] Could not identify NUMA node of platform GPU ID 0, defaulting to 0. Your kernel may not have been built with NUMA support.\n",
      "2022-01-01 23:43:38.951520: I tensorflow/core/common_runtime/pluggable_device/pluggable_device_factory.cc:271] Created TensorFlow device (/job:localhost/replica:0/task:0/device:GPU:0 with 0 MB memory) -> physical PluggableDevice (device: 0, name: METAL, pci bus id: <undefined>)\n"
     ]
    }
   ],
   "source": [
    "kernel = tf.random.normal(shape=(num_chains, n, m))\n",
    "bias = tf.random.normal(shape=(num_chains, m))"
   ]
  },
  {
   "cell_type": "code",
   "execution_count": 4,
   "id": "79182adc",
   "metadata": {},
   "outputs": [
    {
     "data": {
      "text/plain": [
       "<tf.Tensor: shape=(7, 5, 3), dtype=float32, numpy=\n",
       "array([[[-0.14952676, -1.3622406 ,  1.0941813 ],\n",
       "        [ 1.3325045 , -0.23650269,  2.3725414 ],\n",
       "        [ 2.6410306 ,  1.4768419 ,  0.8744571 ],\n",
       "        [ 1.7699282 ,  1.0301566 , -0.5623233 ],\n",
       "        [ 0.7204717 ,  1.426441  ,  0.01340317]],\n",
       "\n",
       "       [[-1.1981047 , -1.6441406 , -1.2258801 ],\n",
       "        [-0.56674504,  0.55103743, -0.965394  ],\n",
       "        [ 0.36918512,  0.42778346,  0.10250291],\n",
       "        [ 0.01525468,  1.370953  , -0.85353136],\n",
       "        [-0.9551967 ,  0.71005726, -0.07376222]],\n",
       "\n",
       "       [[ 1.274002  , -1.089386  ,  0.8338626 ],\n",
       "        [-0.9021529 , -1.8194867 ,  0.34940085],\n",
       "        [-0.8090955 ,  0.8523396 ,  2.128027  ],\n",
       "        [ 0.8624403 , -1.5313218 , -0.46443266],\n",
       "        [ 0.21712169,  0.69957006, -0.04429394]],\n",
       "\n",
       "       [[ 1.1489364 , -0.25453055, -0.17664196],\n",
       "        [ 0.80244774, -0.3206635 , -2.5002396 ],\n",
       "        [-1.3042488 , -0.5276184 , -0.83282226],\n",
       "        [-1.1054032 , -0.04637325, -0.02209354],\n",
       "        [-0.3546948 , -0.89654654, -0.24649477]],\n",
       "\n",
       "       [[-0.5644232 , -0.6285046 ,  0.8852413 ],\n",
       "        [-0.6983524 ,  0.11108248, -0.51431894],\n",
       "        [ 0.55166274,  0.8976841 ,  0.41962337],\n",
       "        [ 0.6292436 , -0.20004515,  0.51020414],\n",
       "        [-0.20997182, -0.7501736 , -0.90905416]],\n",
       "\n",
       "       [[ 0.16953209,  0.889576  ,  0.39920935],\n",
       "        [-0.46668664, -0.6227918 , -0.7384031 ],\n",
       "        [ 1.1001027 , -0.35616207,  1.1910493 ],\n",
       "        [-1.0385967 ,  0.8981923 ,  0.6460985 ],\n",
       "        [ 0.717068  ,  1.051228  ,  0.9866563 ]],\n",
       "\n",
       "       [[-0.04243673,  0.7222836 ,  1.3690245 ],\n",
       "        [ 0.82769895,  0.42433393,  1.7027127 ],\n",
       "        [-0.00542013,  1.6417382 , -0.436844  ],\n",
       "        [ 0.00722046, -0.5278278 , -1.1738304 ],\n",
       "        [-1.3716816 , -1.7135777 , -0.45039752]]], dtype=float32)>"
      ]
     },
     "execution_count": 4,
     "metadata": {},
     "output_type": "execute_result"
    }
   ],
   "source": [
    "kernel"
   ]
  },
  {
   "cell_type": "code",
   "execution_count": 5,
   "id": "94b0f902",
   "metadata": {},
   "outputs": [],
   "source": [
    "mcmc_samples = [kernel, bias]\n",
    "def get_posterior_mcmc(mcmc_samples):\n",
    "    def posterior_mcmc(kernel_size, bias_size, dtype=None):\n",
    "        return tfp.layers.DistributionLambda(\n",
    "            lambda t: tfp.distributions.Empirical(mcmc_samples)\n",
    "        )\n",
    "    return posterior_mcmc"
   ]
  },
  {
   "cell_type": "code",
   "execution_count": 6,
   "id": "0c0e3df9",
   "metadata": {},
   "outputs": [],
   "source": [
    "posterior = get_posterior_mcmc(mcmc_samples=mcmc_samples)"
   ]
  },
  {
   "cell_type": "code",
   "execution_count": 35,
   "id": "9d28ba08",
   "metadata": {},
   "outputs": [],
   "source": []
  },
  {
   "cell_type": "code",
   "execution_count": 57,
   "id": "e062e610",
   "metadata": {},
   "outputs": [],
   "source": [
    "kernel_posterior = tfp.distributions.Empirical(samples=kernels, event_ndims=2)\n",
    "bias_posterior = tfp.distributions.Empirical(samples=bias, event_ndims=1)\n"
   ]
  },
  {
   "cell_type": "code",
   "execution_count": 58,
   "id": "0f0a8d76",
   "metadata": {},
   "outputs": [
    {
     "name": "stdout",
     "output_type": "stream",
     "text": [
      "tf.Tensor(\n",
      "[[-0.04243673  0.7222836   1.3690245 ]\n",
      " [ 0.82769895  0.42433393  1.7027127 ]\n",
      " [-0.00542013  1.6417382  -0.436844  ]\n",
      " [ 0.00722046 -0.5278278  -1.1738304 ]\n",
      " [-1.3716816  -1.7135777  -0.45039752]], shape=(5, 3), dtype=float32)\n",
      "tf.Tensor(\n",
      "[[[-0.14952676 -1.3622406   1.0941813 ]\n",
      "  [ 1.3325045  -0.23650269  2.3725414 ]\n",
      "  [ 2.6410306   1.4768419   0.8744571 ]\n",
      "  [ 1.7699282   1.0301566  -0.5623233 ]\n",
      "  [ 0.7204717   1.426441    0.01340317]]\n",
      "\n",
      " [[-1.1981047  -1.6441406  -1.2258801 ]\n",
      "  [-0.56674504  0.55103743 -0.965394  ]\n",
      "  [ 0.36918512  0.42778346  0.10250291]\n",
      "  [ 0.01525468  1.370953   -0.85353136]\n",
      "  [-0.9551967   0.71005726 -0.07376222]]\n",
      "\n",
      " [[ 1.274002   -1.089386    0.8338626 ]\n",
      "  [-0.9021529  -1.8194867   0.34940085]\n",
      "  [-0.8090955   0.8523396   2.128027  ]\n",
      "  [ 0.8624403  -1.5313218  -0.46443266]\n",
      "  [ 0.21712169  0.69957006 -0.04429394]]\n",
      "\n",
      " [[ 1.1489364  -0.25453055 -0.17664196]\n",
      "  [ 0.80244774 -0.3206635  -2.5002396 ]\n",
      "  [-1.3042488  -0.5276184  -0.83282226]\n",
      "  [-1.1054032  -0.04637325 -0.02209354]\n",
      "  [-0.3546948  -0.89654654 -0.24649477]]\n",
      "\n",
      " [[-0.5644232  -0.6285046   0.8852413 ]\n",
      "  [-0.6983524   0.11108248 -0.51431894]\n",
      "  [ 0.55166274  0.8976841   0.41962337]\n",
      "  [ 0.6292436  -0.20004515  0.51020414]\n",
      "  [-0.20997182 -0.7501736  -0.90905416]]\n",
      "\n",
      " [[ 0.16953209  0.889576    0.39920935]\n",
      "  [-0.46668664 -0.6227918  -0.7384031 ]\n",
      "  [ 1.1001027  -0.35616207  1.1910493 ]\n",
      "  [-1.0385967   0.8981923   0.6460985 ]\n",
      "  [ 0.717068    1.051228    0.9866563 ]]\n",
      "\n",
      " [[-0.04243673  0.7222836   1.3690245 ]\n",
      "  [ 0.82769895  0.42433393  1.7027127 ]\n",
      "  [-0.00542013  1.6417382  -0.436844  ]\n",
      "  [ 0.00722046 -0.5278278  -1.1738304 ]\n",
      "  [-1.3716816  -1.7135777  -0.45039752]]], shape=(7, 5, 3), dtype=float32)\n"
     ]
    }
   ],
   "source": [
    "print(kernel_posterior.sample())\n",
    "print(kernel)\n"
   ]
  },
  {
   "cell_type": "code",
   "execution_count": 59,
   "id": "d1802c40",
   "metadata": {},
   "outputs": [
    {
     "name": "stdout",
     "output_type": "stream",
     "text": [
      "tf.Tensor([-2.57398     0.4472205  -0.91244274], shape=(3,), dtype=float32)\n"
     ]
    },
    {
     "data": {
      "text/plain": [
       "<tf.Tensor: shape=(7, 3), dtype=float32, numpy=\n",
       "array([[-0.21160358, -0.40113866, -0.16318968],\n",
       "       [-2.57398   ,  0.4472205 , -0.91244274],\n",
       "       [-1.1954323 , -0.55392605,  0.7614507 ],\n",
       "       [ 0.07599503,  0.2532692 , -1.4473243 ],\n",
       "       [ 1.0263864 , -0.48374212,  0.45287538],\n",
       "       [ 1.7757125 ,  0.4919715 ,  1.2057395 ],\n",
       "       [-0.78445745, -0.5498506 , -0.03055292]], dtype=float32)>"
      ]
     },
     "execution_count": 59,
     "metadata": {},
     "output_type": "execute_result"
    }
   ],
   "source": [
    "print(bias_posterior.sample())\n",
    "bias"
   ]
  },
  {
   "cell_type": "code",
   "execution_count": 70,
   "id": "3be5037b",
   "metadata": {},
   "outputs": [],
   "source": [
    "weights = [\n",
    "    [kernel[i], bias[i]] for i in range(kernel.shape[0])\n",
    "]"
   ]
  },
  {
   "cell_type": "code",
   "execution_count": 84,
   "id": "0257bcbc",
   "metadata": {},
   "outputs": [],
   "source": [
    "weight_posterior = tfp.distributions.JointDistributionSequential([\n",
    "    tfp.distributions.Empirical(samples=kernel, event_ndims=2),\n",
    "    tfp.distributions.Empirical(samples=bias, event_ndims=1),\n",
    "])"
   ]
  },
  {
   "cell_type": "code",
   "execution_count": 85,
   "id": "886c9396",
   "metadata": {},
   "outputs": [
    {
     "data": {
      "text/plain": [
       "[<tf.Tensor: shape=(5, 3), dtype=float32, numpy=\n",
       " array([[ 1.274002  , -1.089386  ,  0.8338626 ],\n",
       "        [-0.9021529 , -1.8194867 ,  0.34940085],\n",
       "        [-0.8090955 ,  0.8523396 ,  2.128027  ],\n",
       "        [ 0.8624403 , -1.5313218 , -0.46443266],\n",
       "        [ 0.21712169,  0.69957006, -0.04429394]], dtype=float32)>,\n",
       " <tf.Tensor: shape=(3,), dtype=float32, numpy=array([-0.21160358, -0.40113866, -0.16318968], dtype=float32)>]"
      ]
     },
     "execution_count": 85,
     "metadata": {},
     "output_type": "execute_result"
    }
   ],
   "source": [
    "weight_posterior.sample()"
   ]
  },
  {
   "cell_type": "code",
   "execution_count": 86,
   "id": "82e6d56f",
   "metadata": {},
   "outputs": [
    {
     "name": "stdout",
     "output_type": "stream",
     "text": [
      "tf.Tensor(\n",
      "[[[-0.14952676 -1.3622406   1.0941813 ]\n",
      "  [ 1.3325045  -0.23650269  2.3725414 ]\n",
      "  [ 2.6410306   1.4768419   0.8744571 ]\n",
      "  [ 1.7699282   1.0301566  -0.5623233 ]\n",
      "  [ 0.7204717   1.426441    0.01340317]]\n",
      "\n",
      " [[-1.1981047  -1.6441406  -1.2258801 ]\n",
      "  [-0.56674504  0.55103743 -0.965394  ]\n",
      "  [ 0.36918512  0.42778346  0.10250291]\n",
      "  [ 0.01525468  1.370953   -0.85353136]\n",
      "  [-0.9551967   0.71005726 -0.07376222]]\n",
      "\n",
      " [[ 1.274002   -1.089386    0.8338626 ]\n",
      "  [-0.9021529  -1.8194867   0.34940085]\n",
      "  [-0.8090955   0.8523396   2.128027  ]\n",
      "  [ 0.8624403  -1.5313218  -0.46443266]\n",
      "  [ 0.21712169  0.69957006 -0.04429394]]\n",
      "\n",
      " [[ 1.1489364  -0.25453055 -0.17664196]\n",
      "  [ 0.80244774 -0.3206635  -2.5002396 ]\n",
      "  [-1.3042488  -0.5276184  -0.83282226]\n",
      "  [-1.1054032  -0.04637325 -0.02209354]\n",
      "  [-0.3546948  -0.89654654 -0.24649477]]\n",
      "\n",
      " [[-0.5644232  -0.6285046   0.8852413 ]\n",
      "  [-0.6983524   0.11108248 -0.51431894]\n",
      "  [ 0.55166274  0.8976841   0.41962337]\n",
      "  [ 0.6292436  -0.20004515  0.51020414]\n",
      "  [-0.20997182 -0.7501736  -0.90905416]]\n",
      "\n",
      " [[ 0.16953209  0.889576    0.39920935]\n",
      "  [-0.46668664 -0.6227918  -0.7384031 ]\n",
      "  [ 1.1001027  -0.35616207  1.1910493 ]\n",
      "  [-1.0385967   0.8981923   0.6460985 ]\n",
      "  [ 0.717068    1.051228    0.9866563 ]]\n",
      "\n",
      " [[-0.04243673  0.7222836   1.3690245 ]\n",
      "  [ 0.82769895  0.42433393  1.7027127 ]\n",
      "  [-0.00542013  1.6417382  -0.436844  ]\n",
      "  [ 0.00722046 -0.5278278  -1.1738304 ]\n",
      "  [-1.3716816  -1.7135777  -0.45039752]]], shape=(7, 5, 3), dtype=float32)\n",
      "tf.Tensor(\n",
      "[[-0.21160358 -0.40113866 -0.16318968]\n",
      " [-2.57398     0.4472205  -0.91244274]\n",
      " [-1.1954323  -0.55392605  0.7614507 ]\n",
      " [ 0.07599503  0.2532692  -1.4473243 ]\n",
      " [ 1.0263864  -0.48374212  0.45287538]\n",
      " [ 1.7757125   0.4919715   1.2057395 ]\n",
      " [-0.78445745 -0.5498506  -0.03055292]], shape=(7, 3), dtype=float32)\n"
     ]
    }
   ],
   "source": [
    "print(kernel)\n",
    "print(bias)"
   ]
  },
  {
   "cell_type": "code",
   "execution_count": 87,
   "id": "e0636a24",
   "metadata": {},
   "outputs": [
    {
     "name": "stdout",
     "output_type": "stream",
     "text": [
      "tfp.distributions.JointDistributionSequential(\"JointDistributionSequential\", batch_shape=[[], []], event_shape=[[5, 3], [3]], dtype=[float32, float32])\n"
     ]
    }
   ],
   "source": [
    "print(weight_posterior)"
   ]
  },
  {
   "cell_type": "code",
   "execution_count": 93,
   "id": "46d8f5e4",
   "metadata": {},
   "outputs": [],
   "source": [
    "kernel_prior = tfp.distributions.Normal(loc=0., scale=1.)\n",
    "bias_prior = tfp.distributions.Normal(loc=0., scale=1.)\n",
    "weight_prior = tfp.distributions.JointDistributionSequential([\n",
    "    kernel_prior,\n",
    "    bias_prior\n",
    "])"
   ]
  },
  {
   "cell_type": "code",
   "execution_count": 99,
   "id": "3b129699",
   "metadata": {},
   "outputs": [],
   "source": [
    "layer = tfp.layers.DenseVariational(\n",
    "    units=bias.shape[1],\n",
    "    make_posterior_fn=lambda kernel_size, bias_size, dtype: weight_posterior,\n",
    "    make_prior_fn=lambda kernel_size, bias_size, dtype: weight_prior\n",
    ")"
   ]
  },
  {
   "cell_type": "code",
   "execution_count": 100,
   "id": "63b68a4a",
   "metadata": {},
   "outputs": [
    {
     "name": "stdout",
     "output_type": "stream",
     "text": [
      "<tensorflow_probability.python.layers.dense_variational_v2.DenseVariational object at 0x17db60790>\n"
     ]
    }
   ],
   "source": [
    "print(layer)"
   ]
  },
  {
   "cell_type": "code",
   "execution_count": 101,
   "id": "7eaf3ad5",
   "metadata": {},
   "outputs": [],
   "source": [
    "x = tf.random.normal(shape=(4, 3))"
   ]
  },
  {
   "cell_type": "code",
   "execution_count": 103,
   "id": "cf9f1319",
   "metadata": {},
   "outputs": [
    {
     "name": "stderr",
     "output_type": "stream",
     "text": [
      "2022-01-02 00:38:37.769310: W tensorflow/python/util/util.cc:368] Sets are not currently considered sequences, but this may change in the future, so consider avoiding using them.\n"
     ]
    }
   ],
   "source": [
    "model = tf.keras.Sequential([layer])"
   ]
  },
  {
   "cell_type": "code",
   "execution_count": 104,
   "id": "de8a7895",
   "metadata": {},
   "outputs": [
    {
     "ename": "TypeError",
     "evalue": "Exception encountered when calling layer \"dense_variational_1\" (type DenseVariational).\n\n'JointDistributionSequential' object is not callable\n\nCall arguments received:\n  • inputs=tf.Tensor(shape=(4, 3), dtype=float32)",
     "output_type": "error",
     "traceback": [
      "\u001b[0;31m---------------------------------------------------------------------------\u001b[0m",
      "\u001b[0;31mTypeError\u001b[0m                                 Traceback (most recent call last)",
      "\u001b[0;32m/var/folders/7c/2n3ws68d3rb2xw9b37v1zkxm0000gn/T/ipykernel_41006/463742002.py\u001b[0m in \u001b[0;36m<module>\u001b[0;34m\u001b[0m\n\u001b[0;32m----> 1\u001b[0;31m \u001b[0mmodel\u001b[0m\u001b[0;34m(\u001b[0m\u001b[0mx\u001b[0m\u001b[0;34m)\u001b[0m\u001b[0;34m\u001b[0m\u001b[0;34m\u001b[0m\u001b[0m\n\u001b[0m",
      "\u001b[0;32m~/miniforge3/lib/python3.9/site-packages/keras/utils/traceback_utils.py\u001b[0m in \u001b[0;36merror_handler\u001b[0;34m(*args, **kwargs)\u001b[0m\n\u001b[1;32m     65\u001b[0m     \u001b[0;32mexcept\u001b[0m \u001b[0mException\u001b[0m \u001b[0;32mas\u001b[0m \u001b[0me\u001b[0m\u001b[0;34m:\u001b[0m  \u001b[0;31m# pylint: disable=broad-except\u001b[0m\u001b[0;34m\u001b[0m\u001b[0;34m\u001b[0m\u001b[0m\n\u001b[1;32m     66\u001b[0m       \u001b[0mfiltered_tb\u001b[0m \u001b[0;34m=\u001b[0m \u001b[0m_process_traceback_frames\u001b[0m\u001b[0;34m(\u001b[0m\u001b[0me\u001b[0m\u001b[0;34m.\u001b[0m\u001b[0m__traceback__\u001b[0m\u001b[0;34m)\u001b[0m\u001b[0;34m\u001b[0m\u001b[0;34m\u001b[0m\u001b[0m\n\u001b[0;32m---> 67\u001b[0;31m       \u001b[0;32mraise\u001b[0m \u001b[0me\u001b[0m\u001b[0;34m.\u001b[0m\u001b[0mwith_traceback\u001b[0m\u001b[0;34m(\u001b[0m\u001b[0mfiltered_tb\u001b[0m\u001b[0;34m)\u001b[0m \u001b[0;32mfrom\u001b[0m \u001b[0;32mNone\u001b[0m\u001b[0;34m\u001b[0m\u001b[0;34m\u001b[0m\u001b[0m\n\u001b[0m\u001b[1;32m     68\u001b[0m     \u001b[0;32mfinally\u001b[0m\u001b[0;34m:\u001b[0m\u001b[0;34m\u001b[0m\u001b[0;34m\u001b[0m\u001b[0m\n\u001b[1;32m     69\u001b[0m       \u001b[0;32mdel\u001b[0m \u001b[0mfiltered_tb\u001b[0m\u001b[0;34m\u001b[0m\u001b[0;34m\u001b[0m\u001b[0m\n",
      "\u001b[0;32m~/miniforge3/lib/python3.9/site-packages/tensorflow_probability/python/layers/dense_variational_v2.py\u001b[0m in \u001b[0;36mcall\u001b[0;34m(self, inputs)\u001b[0m\n\u001b[1;32m    115\u001b[0m     \u001b[0minputs\u001b[0m \u001b[0;34m=\u001b[0m \u001b[0mtf\u001b[0m\u001b[0;34m.\u001b[0m\u001b[0mcast\u001b[0m\u001b[0;34m(\u001b[0m\u001b[0minputs\u001b[0m\u001b[0;34m,\u001b[0m \u001b[0mdtype\u001b[0m\u001b[0;34m,\u001b[0m \u001b[0mname\u001b[0m\u001b[0;34m=\u001b[0m\u001b[0;34m'inputs'\u001b[0m\u001b[0;34m)\u001b[0m\u001b[0;34m\u001b[0m\u001b[0;34m\u001b[0m\u001b[0m\n\u001b[1;32m    116\u001b[0m \u001b[0;34m\u001b[0m\u001b[0m\n\u001b[0;32m--> 117\u001b[0;31m     \u001b[0mq\u001b[0m \u001b[0;34m=\u001b[0m \u001b[0mself\u001b[0m\u001b[0;34m.\u001b[0m\u001b[0m_posterior\u001b[0m\u001b[0;34m(\u001b[0m\u001b[0minputs\u001b[0m\u001b[0;34m)\u001b[0m\u001b[0;34m\u001b[0m\u001b[0;34m\u001b[0m\u001b[0m\n\u001b[0m\u001b[1;32m    118\u001b[0m     \u001b[0mr\u001b[0m \u001b[0;34m=\u001b[0m \u001b[0mself\u001b[0m\u001b[0;34m.\u001b[0m\u001b[0m_prior\u001b[0m\u001b[0;34m(\u001b[0m\u001b[0minputs\u001b[0m\u001b[0;34m)\u001b[0m\u001b[0;34m\u001b[0m\u001b[0;34m\u001b[0m\u001b[0m\n\u001b[1;32m    119\u001b[0m     \u001b[0mself\u001b[0m\u001b[0;34m.\u001b[0m\u001b[0madd_loss\u001b[0m\u001b[0;34m(\u001b[0m\u001b[0mself\u001b[0m\u001b[0;34m.\u001b[0m\u001b[0m_kl_divergence_fn\u001b[0m\u001b[0;34m(\u001b[0m\u001b[0mq\u001b[0m\u001b[0;34m,\u001b[0m \u001b[0mr\u001b[0m\u001b[0;34m)\u001b[0m\u001b[0;34m)\u001b[0m\u001b[0;34m\u001b[0m\u001b[0;34m\u001b[0m\u001b[0m\n",
      "\u001b[0;31mTypeError\u001b[0m: Exception encountered when calling layer \"dense_variational_1\" (type DenseVariational).\n\n'JointDistributionSequential' object is not callable\n\nCall arguments received:\n  • inputs=tf.Tensor(shape=(4, 3), dtype=float32)"
     ]
    }
   ],
   "source": [
    "model(x)"
   ]
  },
  {
   "cell_type": "code",
   "execution_count": 105,
   "id": "be86cdb4",
   "metadata": {},
   "outputs": [],
   "source": [
    "checkpointer = tf.train.Checkpoint()"
   ]
  },
  {
   "cell_type": "code",
   "execution_count": 106,
   "id": "f6fe87ef",
   "metadata": {},
   "outputs": [
    {
     "data": {
      "text/plain": [
       "<tensorflow.python.training.tracking.util.Checkpoint at 0x17db88460>"
      ]
     },
     "execution_count": 106,
     "metadata": {},
     "output_type": "execute_result"
    }
   ],
   "source": [
    "checkpointer"
   ]
  },
  {
   "cell_type": "code",
   "execution_count": 108,
   "id": "94ec4035",
   "metadata": {},
   "outputs": [],
   "source": [
    "checkpointer = tf.train.Checkpoint(weight_posterior)"
   ]
  },
  {
   "cell_type": "code",
   "execution_count": 109,
   "id": "cf95660c",
   "metadata": {},
   "outputs": [
    {
     "ename": "ValueError",
     "evalue": "Unable to save the object {-1: ListWrapper([<tfp.distributions.Empirical 'Empirical' batch_shape=[] event_shape=[5, 3] dtype=float32>, <tfp.distributions.Empirical 'Empirical' batch_shape=[] event_shape=[3] dtype=float32>])} (a dictionary wrapper constructed automatically on attribute assignment). The wrapped dictionary contains a non-string key which maps to a trackable object or mutable data structure.\n\nIf you don't need this dictionary checkpointed, wrap it in a non-trackable object; it will be subsequently ignored.",
     "output_type": "error",
     "traceback": [
      "\u001b[0;31m---------------------------------------------------------------------------\u001b[0m",
      "\u001b[0;31mValueError\u001b[0m                                Traceback (most recent call last)",
      "\u001b[0;32m/var/folders/7c/2n3ws68d3rb2xw9b37v1zkxm0000gn/T/ipykernel_41006/1258840678.py\u001b[0m in \u001b[0;36m<module>\u001b[0;34m\u001b[0m\n\u001b[0;32m----> 1\u001b[0;31m \u001b[0mcheckpointer\u001b[0m\u001b[0;34m.\u001b[0m\u001b[0msave\u001b[0m\u001b[0;34m(\u001b[0m\u001b[0;34m\"./joint_pdf\"\u001b[0m\u001b[0;34m)\u001b[0m\u001b[0;34m\u001b[0m\u001b[0;34m\u001b[0m\u001b[0m\n\u001b[0m",
      "\u001b[0;32m~/miniforge3/lib/python3.9/site-packages/tensorflow/python/training/tracking/util.py\u001b[0m in \u001b[0;36msave\u001b[0;34m(self, file_prefix, options)\u001b[0m\n\u001b[1;32m   2175\u001b[0m     \u001b[0;32melse\u001b[0m\u001b[0;34m:\u001b[0m\u001b[0;34m\u001b[0m\u001b[0;34m\u001b[0m\u001b[0m\n\u001b[1;32m   2176\u001b[0m       \u001b[0mcheckpoint_number\u001b[0m \u001b[0;34m=\u001b[0m \u001b[0massign_op\u001b[0m\u001b[0;34m.\u001b[0m\u001b[0mnumpy\u001b[0m\u001b[0;34m(\u001b[0m\u001b[0;34m)\u001b[0m\u001b[0;34m\u001b[0m\u001b[0;34m\u001b[0m\u001b[0m\n\u001b[0;32m-> 2177\u001b[0;31m     file_path = self.write(\"%s-%d\" % (file_prefix, checkpoint_number),\n\u001b[0m\u001b[1;32m   2178\u001b[0m                            options=options)\n\u001b[1;32m   2179\u001b[0m     checkpoint_management.update_checkpoint_state_internal(\n",
      "\u001b[0;32m~/miniforge3/lib/python3.9/site-packages/tensorflow/python/training/tracking/util.py\u001b[0m in \u001b[0;36mwrite\u001b[0;34m(self, file_prefix, options)\u001b[0m\n\u001b[1;32m   2072\u001b[0m     \u001b[0mstart_time\u001b[0m \u001b[0;34m=\u001b[0m \u001b[0mtime\u001b[0m\u001b[0;34m.\u001b[0m\u001b[0mtime\u001b[0m\u001b[0;34m(\u001b[0m\u001b[0;34m)\u001b[0m\u001b[0;34m\u001b[0m\u001b[0;34m\u001b[0m\u001b[0m\n\u001b[1;32m   2073\u001b[0m     \u001b[0moptions\u001b[0m \u001b[0;34m=\u001b[0m \u001b[0moptions\u001b[0m \u001b[0;32mor\u001b[0m \u001b[0mcheckpoint_options\u001b[0m\u001b[0;34m.\u001b[0m\u001b[0mCheckpointOptions\u001b[0m\u001b[0;34m(\u001b[0m\u001b[0;34m)\u001b[0m\u001b[0;34m\u001b[0m\u001b[0;34m\u001b[0m\u001b[0m\n\u001b[0;32m-> 2074\u001b[0;31m     \u001b[0moutput\u001b[0m \u001b[0;34m=\u001b[0m \u001b[0mself\u001b[0m\u001b[0;34m.\u001b[0m\u001b[0m_saver\u001b[0m\u001b[0;34m.\u001b[0m\u001b[0msave\u001b[0m\u001b[0;34m(\u001b[0m\u001b[0mfile_prefix\u001b[0m\u001b[0;34m=\u001b[0m\u001b[0mfile_prefix\u001b[0m\u001b[0;34m,\u001b[0m \u001b[0moptions\u001b[0m\u001b[0;34m=\u001b[0m\u001b[0moptions\u001b[0m\u001b[0;34m)\u001b[0m\u001b[0;34m\u001b[0m\u001b[0;34m\u001b[0m\u001b[0m\n\u001b[0m\u001b[1;32m   2075\u001b[0m     \u001b[0mend_time\u001b[0m \u001b[0;34m=\u001b[0m \u001b[0mtime\u001b[0m\u001b[0;34m.\u001b[0m\u001b[0mtime\u001b[0m\u001b[0;34m(\u001b[0m\u001b[0;34m)\u001b[0m\u001b[0;34m\u001b[0m\u001b[0;34m\u001b[0m\u001b[0m\n\u001b[1;32m   2076\u001b[0m \u001b[0;34m\u001b[0m\u001b[0m\n",
      "\u001b[0;32m~/miniforge3/lib/python3.9/site-packages/tensorflow/python/training/tracking/util.py\u001b[0m in \u001b[0;36msave\u001b[0;34m(self, file_prefix, checkpoint_number, session, options)\u001b[0m\n\u001b[1;32m   1238\u001b[0m \u001b[0;34m\u001b[0m\u001b[0m\n\u001b[1;32m   1239\u001b[0m     \u001b[0mfile_io\u001b[0m\u001b[0;34m.\u001b[0m\u001b[0mrecursive_create_dir\u001b[0m\u001b[0;34m(\u001b[0m\u001b[0mos\u001b[0m\u001b[0;34m.\u001b[0m\u001b[0mpath\u001b[0m\u001b[0;34m.\u001b[0m\u001b[0mdirname\u001b[0m\u001b[0;34m(\u001b[0m\u001b[0mfile_prefix\u001b[0m\u001b[0;34m)\u001b[0m\u001b[0;34m)\u001b[0m\u001b[0;34m\u001b[0m\u001b[0;34m\u001b[0m\u001b[0m\n\u001b[0;32m-> 1240\u001b[0;31m     save_path, new_feed_additions = self._save_cached_when_graph_building(\n\u001b[0m\u001b[1;32m   1241\u001b[0m         file_prefix_tensor, object_graph_tensor, options)\n\u001b[1;32m   1242\u001b[0m     \u001b[0;32mif\u001b[0m \u001b[0mnew_feed_additions\u001b[0m\u001b[0;34m:\u001b[0m\u001b[0;34m\u001b[0m\u001b[0;34m\u001b[0m\u001b[0m\n",
      "\u001b[0;32m~/miniforge3/lib/python3.9/site-packages/tensorflow/python/training/tracking/util.py\u001b[0m in \u001b[0;36m_save_cached_when_graph_building\u001b[0;34m(self, file_prefix, object_graph_tensor, options)\u001b[0m\n\u001b[1;32m   1175\u001b[0m     \"\"\"\n\u001b[1;32m   1176\u001b[0m     (named_saveable_objects, graph_proto,\n\u001b[0;32m-> 1177\u001b[0;31m      \u001b[0mfeed_additions\u001b[0m\u001b[0;34m)\u001b[0m \u001b[0;34m=\u001b[0m \u001b[0mself\u001b[0m\u001b[0;34m.\u001b[0m\u001b[0m_gather_saveables\u001b[0m\u001b[0;34m(\u001b[0m\u001b[0;34m\u001b[0m\u001b[0;34m\u001b[0m\u001b[0m\n\u001b[0m\u001b[1;32m   1178\u001b[0m          object_graph_tensor=object_graph_tensor)\n\u001b[1;32m   1179\u001b[0m     if (self._last_save_object_graph != graph_proto\n",
      "\u001b[0;32m~/miniforge3/lib/python3.9/site-packages/tensorflow/python/training/tracking/util.py\u001b[0m in \u001b[0;36m_gather_saveables\u001b[0;34m(self, object_graph_tensor)\u001b[0m\n\u001b[1;32m   1142\u001b[0m     \u001b[0;34m\"\"\"Wraps _serialize_object_graph to include the object graph proto.\"\"\"\u001b[0m\u001b[0;34m\u001b[0m\u001b[0;34m\u001b[0m\u001b[0m\n\u001b[1;32m   1143\u001b[0m     (named_saveable_objects, graph_proto,\n\u001b[0;32m-> 1144\u001b[0;31m      feed_additions) = self._graph_view.serialize_object_graph()\n\u001b[0m\u001b[1;32m   1145\u001b[0m     \u001b[0;32mif\u001b[0m \u001b[0mobject_graph_tensor\u001b[0m \u001b[0;32mis\u001b[0m \u001b[0;32mNone\u001b[0m\u001b[0;34m:\u001b[0m\u001b[0;34m\u001b[0m\u001b[0;34m\u001b[0m\u001b[0m\n\u001b[1;32m   1146\u001b[0m       \u001b[0;32mwith\u001b[0m \u001b[0mops\u001b[0m\u001b[0;34m.\u001b[0m\u001b[0mdevice\u001b[0m\u001b[0;34m(\u001b[0m\u001b[0;34m\"/cpu:0\"\u001b[0m\u001b[0;34m)\u001b[0m\u001b[0;34m:\u001b[0m\u001b[0;34m\u001b[0m\u001b[0;34m\u001b[0m\u001b[0m\n",
      "\u001b[0;32m~/miniforge3/lib/python3.9/site-packages/tensorflow/python/training/tracking/graph_view.py\u001b[0m in \u001b[0;36mserialize_object_graph\u001b[0;34m(self)\u001b[0m\n\u001b[1;32m    431\u001b[0m       \u001b[0mValueError\u001b[0m\u001b[0;34m:\u001b[0m \u001b[0mIf\u001b[0m \u001b[0mthere\u001b[0m \u001b[0mare\u001b[0m \u001b[0minvalid\u001b[0m \u001b[0mcharacters\u001b[0m \u001b[0;32min\u001b[0m \u001b[0man\u001b[0m \u001b[0moptimizer\u001b[0m\u001b[0;31m'\u001b[0m\u001b[0ms\u001b[0m \u001b[0mslot\u001b[0m \u001b[0mnames\u001b[0m\u001b[0;34m.\u001b[0m\u001b[0;34m\u001b[0m\u001b[0;34m\u001b[0m\u001b[0m\n\u001b[1;32m    432\u001b[0m     \"\"\"\n\u001b[0;32m--> 433\u001b[0;31m     \u001b[0mtrackable_objects\u001b[0m\u001b[0;34m,\u001b[0m \u001b[0mpath_to_root\u001b[0m \u001b[0;34m=\u001b[0m \u001b[0mself\u001b[0m\u001b[0;34m.\u001b[0m\u001b[0m_breadth_first_traversal\u001b[0m\u001b[0;34m(\u001b[0m\u001b[0;34m)\u001b[0m\u001b[0;34m\u001b[0m\u001b[0;34m\u001b[0m\u001b[0m\n\u001b[0m\u001b[1;32m    434\u001b[0m     return self._serialize_gathered_objects(\n\u001b[1;32m    435\u001b[0m         trackable_objects, path_to_root)\n",
      "\u001b[0;32m~/miniforge3/lib/python3.9/site-packages/tensorflow/python/training/tracking/graph_view.py\u001b[0m in \u001b[0;36m_breadth_first_traversal\u001b[0;34m(self)\u001b[0m\n\u001b[1;32m    259\u001b[0m       \u001b[0mcurrent_trackable\u001b[0m \u001b[0;34m=\u001b[0m \u001b[0mto_visit\u001b[0m\u001b[0;34m.\u001b[0m\u001b[0mpopleft\u001b[0m\u001b[0;34m(\u001b[0m\u001b[0;34m)\u001b[0m\u001b[0;34m\u001b[0m\u001b[0;34m\u001b[0m\u001b[0m\n\u001b[1;32m    260\u001b[0m       \u001b[0mbfs_sorted\u001b[0m\u001b[0;34m.\u001b[0m\u001b[0mappend\u001b[0m\u001b[0;34m(\u001b[0m\u001b[0mcurrent_trackable\u001b[0m\u001b[0;34m)\u001b[0m\u001b[0;34m\u001b[0m\u001b[0;34m\u001b[0m\u001b[0m\n\u001b[0;32m--> 261\u001b[0;31m       \u001b[0;32mfor\u001b[0m \u001b[0mname\u001b[0m\u001b[0;34m,\u001b[0m \u001b[0mdependency\u001b[0m \u001b[0;32min\u001b[0m \u001b[0mself\u001b[0m\u001b[0;34m.\u001b[0m\u001b[0mlist_dependencies\u001b[0m\u001b[0;34m(\u001b[0m\u001b[0mcurrent_trackable\u001b[0m\u001b[0;34m)\u001b[0m\u001b[0;34m:\u001b[0m\u001b[0;34m\u001b[0m\u001b[0;34m\u001b[0m\u001b[0m\n\u001b[0m\u001b[1;32m    262\u001b[0m         \u001b[0;32mif\u001b[0m \u001b[0mdependency\u001b[0m \u001b[0;32mnot\u001b[0m \u001b[0;32min\u001b[0m \u001b[0mpath_to_root\u001b[0m\u001b[0;34m:\u001b[0m\u001b[0;34m\u001b[0m\u001b[0;34m\u001b[0m\u001b[0m\n\u001b[1;32m    263\u001b[0m           path_to_root[dependency] = (\n",
      "\u001b[0;32m~/miniforge3/lib/python3.9/site-packages/tensorflow/python/training/tracking/graph_view.py\u001b[0m in \u001b[0;36mlist_dependencies\u001b[0;34m(self, obj)\u001b[0m\n\u001b[1;32m    208\u001b[0m     \u001b[0;31m# pylint: disable=protected-access\u001b[0m\u001b[0;34m\u001b[0m\u001b[0;34m\u001b[0m\u001b[0m\n\u001b[1;32m    209\u001b[0m     \u001b[0mobj\u001b[0m\u001b[0;34m.\u001b[0m\u001b[0m_maybe_initialize_trackable\u001b[0m\u001b[0;34m(\u001b[0m\u001b[0;34m)\u001b[0m\u001b[0;34m\u001b[0m\u001b[0;34m\u001b[0m\u001b[0m\n\u001b[0;32m--> 210\u001b[0;31m     \u001b[0mdependencies\u001b[0m \u001b[0;34m=\u001b[0m \u001b[0mobj\u001b[0m\u001b[0;34m.\u001b[0m\u001b[0m_checkpoint_dependencies\u001b[0m\u001b[0;34m\u001b[0m\u001b[0;34m\u001b[0m\u001b[0m\n\u001b[0m\u001b[1;32m    211\u001b[0m     \u001b[0;31m# pylint: enable=protected-access\u001b[0m\u001b[0;34m\u001b[0m\u001b[0;34m\u001b[0m\u001b[0m\n\u001b[1;32m    212\u001b[0m \u001b[0;34m\u001b[0m\u001b[0m\n",
      "\u001b[0;32m~/miniforge3/lib/python3.9/site-packages/tensorflow/python/training/tracking/data_structures.py\u001b[0m in \u001b[0;36m__getattribute__\u001b[0;34m(self, name)\u001b[0m\n\u001b[1;32m    824\u001b[0m       \u001b[0;31m# in particular seems to look up properties on the wrapped object instead\u001b[0m\u001b[0;34m\u001b[0m\u001b[0;34m\u001b[0m\u001b[0m\n\u001b[1;32m    825\u001b[0m       \u001b[0;31m# of the wrapper without this logic.\u001b[0m\u001b[0;34m\u001b[0m\u001b[0;34m\u001b[0m\u001b[0m\n\u001b[0;32m--> 826\u001b[0;31m       \u001b[0;32mreturn\u001b[0m \u001b[0mobject\u001b[0m\u001b[0;34m.\u001b[0m\u001b[0m__getattribute__\u001b[0m\u001b[0;34m(\u001b[0m\u001b[0mself\u001b[0m\u001b[0;34m,\u001b[0m \u001b[0mname\u001b[0m\u001b[0;34m)\u001b[0m\u001b[0;34m\u001b[0m\u001b[0;34m\u001b[0m\u001b[0m\n\u001b[0m\u001b[1;32m    827\u001b[0m     \u001b[0;32melse\u001b[0m\u001b[0;34m:\u001b[0m\u001b[0;34m\u001b[0m\u001b[0;34m\u001b[0m\u001b[0m\n\u001b[1;32m    828\u001b[0m       \u001b[0;32mreturn\u001b[0m \u001b[0msuper\u001b[0m\u001b[0;34m(\u001b[0m\u001b[0m_DictWrapper\u001b[0m\u001b[0;34m,\u001b[0m \u001b[0mself\u001b[0m\u001b[0;34m)\u001b[0m\u001b[0;34m.\u001b[0m\u001b[0m__getattribute__\u001b[0m\u001b[0;34m(\u001b[0m\u001b[0mname\u001b[0m\u001b[0;34m)\u001b[0m\u001b[0;34m\u001b[0m\u001b[0;34m\u001b[0m\u001b[0m\n",
      "\u001b[0;32m~/miniforge3/lib/python3.9/site-packages/tensorflow/python/training/tracking/data_structures.py\u001b[0m in \u001b[0;36m_checkpoint_dependencies\u001b[0;34m(self)\u001b[0m\n\u001b[1;32m    859\u001b[0m     \u001b[0mself\u001b[0m\u001b[0;34m.\u001b[0m\u001b[0m_check_self_external_modification\u001b[0m\u001b[0;34m(\u001b[0m\u001b[0;34m)\u001b[0m\u001b[0;34m\u001b[0m\u001b[0;34m\u001b[0m\u001b[0m\n\u001b[1;32m    860\u001b[0m     \u001b[0;32mif\u001b[0m \u001b[0mself\u001b[0m\u001b[0;34m.\u001b[0m\u001b[0m_self_non_string_key\u001b[0m\u001b[0;34m:\u001b[0m\u001b[0;34m\u001b[0m\u001b[0;34m\u001b[0m\u001b[0m\n\u001b[0;32m--> 861\u001b[0;31m       raise ValueError(\n\u001b[0m\u001b[1;32m    862\u001b[0m           \u001b[0;34m\"Unable to save the object %s (a dictionary wrapper constructed \"\u001b[0m\u001b[0;34m\u001b[0m\u001b[0;34m\u001b[0m\u001b[0m\n\u001b[1;32m    863\u001b[0m           \u001b[0;34m\"automatically on attribute assignment). The wrapped dictionary \"\u001b[0m\u001b[0;34m\u001b[0m\u001b[0;34m\u001b[0m\u001b[0m\n",
      "\u001b[0;31mValueError\u001b[0m: Unable to save the object {-1: ListWrapper([<tfp.distributions.Empirical 'Empirical' batch_shape=[] event_shape=[5, 3] dtype=float32>, <tfp.distributions.Empirical 'Empirical' batch_shape=[] event_shape=[3] dtype=float32>])} (a dictionary wrapper constructed automatically on attribute assignment). The wrapped dictionary contains a non-string key which maps to a trackable object or mutable data structure.\n\nIf you don't need this dictionary checkpointed, wrap it in a non-trackable object; it will be subsequently ignored."
     ]
    }
   ],
   "source": [
    "checkpointer.save(\"./joint_pdf\")"
   ]
  },
  {
   "cell_type": "code",
   "execution_count": null,
   "id": "ec18250f",
   "metadata": {},
   "outputs": [],
   "source": []
  }
 ],
 "metadata": {
  "kernelspec": {
   "display_name": "Python 3.9.7 64-bit ('base': conda)",
   "language": "python",
   "name": "python397jvsc74a57bd044ff99d3af02f09e383a3ffce177a5afc09212563ff719d1be2a4f8771c8cd81"
  },
  "language_info": {
   "codemirror_mode": {
    "name": "ipython",
    "version": 3
   },
   "file_extension": ".py",
   "mimetype": "text/x-python",
   "name": "python",
   "nbconvert_exporter": "python",
   "pygments_lexer": "ipython3",
   "version": "3.9.9"
  }
 },
 "nbformat": 4,
 "nbformat_minor": 5
}
