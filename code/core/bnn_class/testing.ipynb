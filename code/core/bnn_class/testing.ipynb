{
 "cells": [
  {
   "cell_type": "code",
   "execution_count": 1,
   "id": "c95f374b",
   "metadata": {},
   "outputs": [],
   "source": [
    "import tensorflow as tf"
   ]
  },
  {
   "cell_type": "code",
   "execution_count": 2,
   "id": "9f559eae",
   "metadata": {},
   "outputs": [],
   "source": [
    "num_results = 7\n",
    "num_chains = 4\n",
    "n = 10\n",
    "m = 1"
   ]
  },
  {
   "cell_type": "code",
   "execution_count": 3,
   "id": "ddbc776a",
   "metadata": {},
   "outputs": [
    {
     "name": "stdout",
     "output_type": "stream",
     "text": [
      "Metal device set to: Apple M1\n",
      "\n",
      "systemMemory: 8.00 GB\n",
      "maxCacheSize: 2.67 GB\n",
      "\n"
     ]
    },
    {
     "name": "stderr",
     "output_type": "stream",
     "text": [
      "2022-01-02 16:32:56.955707: I tensorflow/core/common_runtime/pluggable_device/pluggable_device_factory.cc:305] Could not identify NUMA node of platform GPU ID 0, defaulting to 0. Your kernel may not have been built with NUMA support.\n",
      "2022-01-02 16:32:56.956096: I tensorflow/core/common_runtime/pluggable_device/pluggable_device_factory.cc:271] Created TensorFlow device (/job:localhost/replica:0/task:0/device:GPU:0 with 0 MB memory) -> physical PluggableDevice (device: 0, name: METAL, pci bus id: <undefined>)\n"
     ]
    }
   ],
   "source": [
    "w0 = tf.random.normal(shape=(num_results, num_chains, m, n))\n",
    "b0 = tf.random.normal(shape=(num_results, num_chains, n))"
   ]
  },
  {
   "cell_type": "code",
   "execution_count": 4,
   "id": "537982cf",
   "metadata": {},
   "outputs": [],
   "source": [
    "w1 = tf.random.normal(shape=(num_results, num_chains, n, m))\n",
    "b1 = tf.random.normal(shape=(num_results, num_chains, m))"
   ]
  },
  {
   "cell_type": "code",
   "execution_count": 5,
   "id": "d55e8906",
   "metadata": {},
   "outputs": [],
   "source": [
    "weights = [w0, b0, w1, b1]\n",
    "kernel = weights[::2]\n",
    "bias = weights[1::2]"
   ]
  },
  {
   "cell_type": "code",
   "execution_count": 6,
   "id": "6fcd7f84",
   "metadata": {},
   "outputs": [],
   "source": [
    "shapes = [w.shape for w in weights]"
   ]
  },
  {
   "cell_type": "code",
   "execution_count": 7,
   "id": "61c39a0a",
   "metadata": {},
   "outputs": [
    {
     "name": "stdout",
     "output_type": "stream",
     "text": [
      "[TensorShape([7, 4, 1, 10]), TensorShape([7, 4, 10]), TensorShape([7, 4, 10, 1]), TensorShape([7, 4, 1])]\n"
     ]
    }
   ],
   "source": [
    "print(shapes)"
   ]
  },
  {
   "cell_type": "code",
   "execution_count": 11,
   "id": "17222894",
   "metadata": {},
   "outputs": [],
   "source": [
    "new_kernel = [\n",
    "    tf.reshape(tensor=w, shape=(w.shape[0] * w.shape[1], w.shape[-2], w.shape[-1]))\n",
    "    for w in kernel\n",
    "]"
   ]
  },
  {
   "cell_type": "code",
   "execution_count": 12,
   "id": "7fc089c6",
   "metadata": {},
   "outputs": [],
   "source": [
    "new_bias = [\n",
    "    tf.reshape(tensor=b, shape=(b.shape[0] * b.shape[1], b.shape[-1]))\n",
    "    for b in bias\n",
    "]"
   ]
  },
  {
   "cell_type": "code",
   "execution_count": 13,
   "id": "4b82c973",
   "metadata": {},
   "outputs": [
    {
     "name": "stdout",
     "output_type": "stream",
     "text": [
      "[TensorShape([28, 1, 10]), TensorShape([28, 10, 1])]\n"
     ]
    }
   ],
   "source": [
    "kernel_shapes = [w.shape for w in new_kernel]\n",
    "print(kernel_shapes)"
   ]
  },
  {
   "cell_type": "code",
   "execution_count": 14,
   "id": "ac9638fb",
   "metadata": {},
   "outputs": [],
   "source": [
    "w0_old = tf.random.normal(shape=(num_results, num_chains, m, n))\n",
    "b0_old = tf.random.normal(shape=(num_results, num_chains, n))"
   ]
  },
  {
   "cell_type": "code",
   "execution_count": 15,
   "id": "1cb85269",
   "metadata": {},
   "outputs": [],
   "source": [
    "w1_old = tf.random.normal(shape=(num_results, num_chains, n, m))\n",
    "b1_old = tf.random.normal(shape=(num_results, num_chains, m))"
   ]
  },
  {
   "cell_type": "code",
   "execution_count": 16,
   "id": "7c90fc18",
   "metadata": {},
   "outputs": [],
   "source": [
    "weights_old = [w0_old, b0_old, w1_old, b1_old]"
   ]
  },
  {
   "cell_type": "code",
   "execution_count": 17,
   "id": "32b210eb",
   "metadata": {},
   "outputs": [],
   "source": [
    "kernel_old = weights_old[::2]\n",
    "bias_old = weights_old[1::2]"
   ]
  },
  {
   "cell_type": "code",
   "execution_count": 20,
   "id": "059038da",
   "metadata": {},
   "outputs": [],
   "source": [
    "kernel_old = [\n",
    "    tf.reshape(tensor=w, shape=(w.shape[0] * w.shape[1], w.shape[-2], w.shape[-1]))\n",
    "    for w in kernel_old\n",
    "]"
   ]
  },
  {
   "cell_type": "code",
   "execution_count": 21,
   "id": "bd66a917",
   "metadata": {},
   "outputs": [],
   "source": [
    "bias_old = [\n",
    "    tf.reshape(tensor=b, shape=(b.shape[0] * b.shape[1], b.shape[-1]))\n",
    "    for b in bias_old\n",
    "]"
   ]
  },
  {
   "cell_type": "code",
   "execution_count": 22,
   "id": "bd58bb12",
   "metadata": {},
   "outputs": [],
   "source": [
    "final_kernel = [tf.concat([i, e], axis=0) for i, e in zip(kernel_old, new_kernel)]"
   ]
  },
  {
   "cell_type": "code",
   "execution_count": 24,
   "id": "2c497278",
   "metadata": {},
   "outputs": [],
   "source": [
    "final_bias = [tf.concat([i, e], axis=0) for i, e in zip(bias_old, new_bias)]"
   ]
  },
  {
   "cell_type": "code",
   "execution_count": 25,
   "id": "d32d03ee",
   "metadata": {},
   "outputs": [
    {
     "name": "stdout",
     "output_type": "stream",
     "text": [
      "[TensorShape([56, 10]), TensorShape([56, 1])]\n"
     ]
    }
   ],
   "source": []
  },
  {
   "cell_type": "code",
   "execution_count": null,
   "id": "f8012321",
   "metadata": {},
   "outputs": [],
   "source": []
  }
 ],
 "metadata": {
  "kernelspec": {
   "display_name": "Python 3.9.7 64-bit ('base': conda)",
   "language": "python",
   "name": "python397jvsc74a57bd044ff99d3af02f09e383a3ffce177a5afc09212563ff719d1be2a4f8771c8cd81"
  },
  "language_info": {
   "codemirror_mode": {
    "name": "ipython",
    "version": 3
   },
   "file_extension": ".py",
   "mimetype": "text/x-python",
   "name": "python",
   "nbconvert_exporter": "python",
   "pygments_lexer": "ipython3",
   "version": "3.9.9"
  }
 },
 "nbformat": 4,
 "nbformat_minor": 5
}
