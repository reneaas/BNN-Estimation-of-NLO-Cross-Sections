{
 "cells": [
  {
   "cell_type": "code",
   "execution_count": 1,
   "id": "3dc6606c",
   "metadata": {},
   "outputs": [],
   "source": [
    "import tensorflow as tf"
   ]
  },
  {
   "cell_type": "code",
   "execution_count": 2,
   "id": "eabd326f",
   "metadata": {},
   "outputs": [],
   "source": [
    "import tensorflow_probability as tfp"
   ]
  },
  {
   "cell_type": "code",
   "execution_count": 6,
   "id": "1fa82d40",
   "metadata": {},
   "outputs": [
    {
     "name": "stdout",
     "output_type": "stream",
     "text": [
      "Metal device set to: "
     ]
    },
    {
     "name": "stderr",
     "output_type": "stream",
     "text": [
      "2022-01-07 06:09:30.907372: I tensorflow/core/common_runtime/pluggable_device/pluggable_device_factory.cc:305] Could not identify NUMA node of platform GPU ID 0, defaulting to 0. Your kernel may not have been built with NUMA support.\n",
      "2022-01-07 06:09:30.908441: I tensorflow/core/common_runtime/pluggable_device/pluggable_device_factory.cc:271] Created TensorFlow device (/job:localhost/replica:0/task:0/device:GPU:0 with 0 MB memory) -> physical PluggableDevice (device: 0, name: METAL, pci bus id: <undefined>)\n"
     ]
    },
    {
     "name": "stdout",
     "output_type": "stream",
     "text": [
      "Apple M1\n",
      "\n",
      "systemMemory: 8.00 GB\n",
      "maxCacheSize: 2.67 GB\n",
      "\n"
     ]
    }
   ],
   "source": [
    "dist = tfp.distributions.Normal(loc=0., scale=1.)"
   ]
  },
  {
   "cell_type": "code",
   "execution_count": 12,
   "id": "0fd4be1f",
   "metadata": {},
   "outputs": [],
   "source": [
    "layers = [1, 5, 1]\n",
    "kernel = []\n",
    "bias = []\n",
    "num_samples = 3\n",
    "for n, m in zip(layers[:-1], layers[1:]):\n",
    "    kernel.append(\n",
    "        dist.sample(sample_shape=(num_samples, n, m))\n",
    "    )\n",
    "    bias.append(dist.sample(sample_shape=(num_samples,m)))"
   ]
  },
  {
   "cell_type": "code",
   "execution_count": 13,
   "id": "05b9c83e",
   "metadata": {},
   "outputs": [],
   "source": [
    "weights = []\n",
    "for w, b in zip(kernel, bias):\n",
    "    weights.extend([w, b])"
   ]
  },
  {
   "cell_type": "code",
   "execution_count": 24,
   "id": "fee20955",
   "metadata": {},
   "outputs": [
    {
     "data": {
      "text/plain": [
       "[<tf.Tensor: shape=(3, 1, 5), dtype=float32, numpy=\n",
       " array([[[ 0.94065744, -1.1573828 , -1.8728763 , -0.05894154,\n",
       "           0.74315506]],\n",
       " \n",
       "        [[ 0.39541802, -0.59787893, -0.68717283,  0.7306141 ,\n",
       "           0.5914967 ]],\n",
       " \n",
       "        [[ 0.9765441 , -1.2154157 ,  0.32481426, -1.795451  ,\n",
       "          -1.0096555 ]]], dtype=float32)>,\n",
       " <tf.Tensor: shape=(3, 5), dtype=float32, numpy=\n",
       " array([[-0.44853836,  0.8573745 ,  1.2324175 ,  1.2333242 , -0.34409985],\n",
       "        [ 1.6486776 , -2.0178804 ,  0.22516067, -0.096459  ,  1.3415587 ],\n",
       "        [ 0.4613919 , -1.4453946 ,  1.6711736 ,  0.8652756 , -0.3558571 ]],\n",
       "       dtype=float32)>,\n",
       " <tf.Tensor: shape=(3, 5, 1), dtype=float32, numpy=\n",
       " array([[[ 0.76968616],\n",
       "         [ 0.05996678],\n",
       "         [ 0.458835  ],\n",
       "         [ 1.5440474 ],\n",
       "         [ 1.050464  ]],\n",
       " \n",
       "        [[-0.2513498 ],\n",
       "         [ 0.9475734 ],\n",
       "         [-0.06274645],\n",
       "         [ 1.1898887 ],\n",
       "         [ 0.7543455 ]],\n",
       " \n",
       "        [[ 1.678421  ],\n",
       "         [-0.14267032],\n",
       "         [-0.13932383],\n",
       "         [ 0.7677005 ],\n",
       "         [-1.8649336 ]]], dtype=float32)>,\n",
       " <tf.Tensor: shape=(3, 1), dtype=float32, numpy=\n",
       " array([[ 0.01335513],\n",
       "        [-1.055612  ],\n",
       "        [-1.205824  ]], dtype=float32)>,\n",
       " [<tf.Tensor: shape=(1, 5), dtype=float32, numpy=\n",
       "  array([[ 0.94065744, -1.1573828 , -1.8728763 , -0.05894154,  0.74315506]],\n",
       "        dtype=float32)>,\n",
       "  <tf.Tensor: shape=(5,), dtype=float32, numpy=\n",
       "  array([-0.44853836,  0.8573745 ,  1.2324175 ,  1.2333242 , -0.34409985],\n",
       "        dtype=float32)>,\n",
       "  <tf.Tensor: shape=(5, 1), dtype=float32, numpy=\n",
       "  array([[0.76968616],\n",
       "         [0.05996678],\n",
       "         [0.458835  ],\n",
       "         [1.5440474 ],\n",
       "         [1.050464  ]], dtype=float32)>,\n",
       "  <tf.Tensor: shape=(1,), dtype=float32, numpy=array([0.01335513], dtype=float32)>],\n",
       " [<tf.Tensor: shape=(1, 5), dtype=float32, numpy=\n",
       "  array([[ 0.39541802, -0.59787893, -0.68717283,  0.7306141 ,  0.5914967 ]],\n",
       "        dtype=float32)>,\n",
       "  <tf.Tensor: shape=(5,), dtype=float32, numpy=\n",
       "  array([ 1.6486776 , -2.0178804 ,  0.22516067, -0.096459  ,  1.3415587 ],\n",
       "        dtype=float32)>,\n",
       "  <tf.Tensor: shape=(5, 1), dtype=float32, numpy=\n",
       "  array([[-0.2513498 ],\n",
       "         [ 0.9475734 ],\n",
       "         [-0.06274645],\n",
       "         [ 1.1898887 ],\n",
       "         [ 0.7543455 ]], dtype=float32)>,\n",
       "  <tf.Tensor: shape=(1,), dtype=float32, numpy=array([-1.055612], dtype=float32)>,\n",
       "  <tf.Tensor: shape=(5,), dtype=float32, numpy=\n",
       "  array([-0.44853836,  0.8573745 ,  1.2324175 ,  1.2333242 , -0.34409985],\n",
       "        dtype=float32)>],\n",
       " [<tf.Tensor: shape=(1, 5), dtype=float32, numpy=\n",
       "  array([[ 0.9765441 , -1.2154157 ,  0.32481426, -1.795451  , -1.0096555 ]],\n",
       "        dtype=float32)>,\n",
       "  <tf.Tensor: shape=(5,), dtype=float32, numpy=\n",
       "  array([ 0.4613919, -1.4453946,  1.6711736,  0.8652756, -0.3558571],\n",
       "        dtype=float32)>,\n",
       "  <tf.Tensor: shape=(5, 1), dtype=float32, numpy=\n",
       "  array([[ 1.678421  ],\n",
       "         [-0.14267032],\n",
       "         [-0.13932383],\n",
       "         [ 0.7677005 ],\n",
       "         [-1.8649336 ]], dtype=float32)>,\n",
       "  <tf.Tensor: shape=(1,), dtype=float32, numpy=array([-1.205824], dtype=float32)>,\n",
       "  <tf.Tensor: shape=(5, 1), dtype=float32, numpy=\n",
       "  array([[0.76968616],\n",
       "         [0.05996678],\n",
       "         [0.458835  ],\n",
       "         [1.5440474 ],\n",
       "         [1.050464  ]], dtype=float32)>,\n",
       "  <tf.Tensor: shape=(5, 1), dtype=float32, numpy=\n",
       "  array([[-0.2513498 ],\n",
       "         [ 0.9475734 ],\n",
       "         [-0.06274645],\n",
       "         [ 1.1898887 ],\n",
       "         [ 0.7543455 ]], dtype=float32)>]]"
      ]
     },
     "execution_count": 24,
     "metadata": {},
     "output_type": "execute_result"
    }
   ],
   "source": [
    "weights"
   ]
  },
  {
   "cell_type": "code",
   "execution_count": 29,
   "id": "4e5d5179",
   "metadata": {},
   "outputs": [
    {
     "ename": "TypeError",
     "evalue": "__init__() missing 1 required positional argument: 'row_partition'",
     "output_type": "error",
     "traceback": [
      "\u001b[0;31m---------------------------------------------------------------------------\u001b[0m",
      "\u001b[0;31mTypeError\u001b[0m                                 Traceback (most recent call last)",
      "\u001b[0;32m/var/folders/7c/2n3ws68d3rb2xw9b37v1zkxm0000gn/T/ipykernel_16884/3972957597.py\u001b[0m in \u001b[0;36m<module>\u001b[0;34m\u001b[0m\n\u001b[0;32m----> 1\u001b[0;31m \u001b[0mtf\u001b[0m\u001b[0;34m.\u001b[0m\u001b[0mRaggedTensor\u001b[0m\u001b[0;34m(\u001b[0m\u001b[0mweights\u001b[0m\u001b[0;34m)\u001b[0m\u001b[0;34m\u001b[0m\u001b[0;34m\u001b[0m\u001b[0m\n\u001b[0m",
      "\u001b[0;31mTypeError\u001b[0m: __init__() missing 1 required positional argument: 'row_partition'"
     ]
    }
   ],
   "source": [
    "tf.RaggedTensor(weights)"
   ]
  },
  {
   "cell_type": "code",
   "execution_count": 28,
   "id": "35430538",
   "metadata": {},
   "outputs": [
    {
     "data": {
      "text/plain": [
       "[]"
      ]
     },
     "execution_count": 28,
     "metadata": {},
     "output_type": "execute_result"
    }
   ],
   "source": [
    "weights_new"
   ]
  },
  {
   "cell_type": "code",
   "execution_count": null,
   "id": "8119aacd",
   "metadata": {},
   "outputs": [],
   "source": []
  }
 ],
 "metadata": {
  "kernelspec": {
   "display_name": "Python 3.9.7 64-bit ('base': conda)",
   "language": "python",
   "name": "python397jvsc74a57bd044ff99d3af02f09e383a3ffce177a5afc09212563ff719d1be2a4f8771c8cd81"
  },
  "language_info": {
   "codemirror_mode": {
    "name": "ipython",
    "version": 3
   },
   "file_extension": ".py",
   "mimetype": "text/x-python",
   "name": "python",
   "nbconvert_exporter": "python",
   "pygments_lexer": "ipython3",
   "version": "3.9.9"
  }
 },
 "nbformat": 4,
 "nbformat_minor": 5
}
