{
 "cells": [
  {
   "cell_type": "code",
   "execution_count": 13,
   "id": "37bd7b4c",
   "metadata": {},
   "outputs": [],
   "source": [
    "from pprint import pprint\n",
    "import matplotlib.pyplot as plt\n",
    "import numpy as np\n",
    "import seaborn as sns\n",
    "\n",
    "import tensorflow.compat.v2 as tf\n",
    "tf.enable_v2_behavior()\n",
    "\n",
    "import tensorflow_probability as tfp\n",
    "\n",
    "sns.reset_defaults()\n",
    "sns.set_context(context='talk',font_scale=0.7)\n",
    "plt.rcParams['image.cmap'] = 'viridis'\n",
    "\n",
    "%matplotlib inline\n",
    "\n",
    "tfd = tfp.distributions\n",
    "tfb = tfp.bijectors"
   ]
  },
  {
   "cell_type": "code",
   "execution_count": 15,
   "id": "95a51fbc",
   "metadata": {},
   "outputs": [],
   "source": [
    "def print_subclasses_from_module(module, base_class, maxwidth=80):\n",
    "    import functools, inspect, sys\n",
    "    subclasses = [name for name, obj in inspect.getmembers(module)\n",
    "                if inspect.isclass(obj) and issubclass(obj, base_class)]\n",
    "    def red(acc, x):\n",
    "        if not acc or len(acc[-1]) + len(x) + 2 > maxwidth:\n",
    "            acc.append(x)\n",
    "        else:\n",
    "            acc[-1] += \", \" + x\n",
    "        return acc\n",
    "    print('\\n'.join(functools.reduce(red, subclasses, [])))"
   ]
  },
  {
   "cell_type": "code",
   "execution_count": 17,
   "id": "6d0d758f",
   "metadata": {},
   "outputs": [
    {
     "name": "stdout",
     "output_type": "stream",
     "text": [
      "tf.Tensor(3.1415925, shape=(), dtype=float32)\n",
      "tf.Tensor(2.7182815, shape=(), dtype=float32)\n"
     ]
    }
   ],
   "source": [
    "a = tf.constant(np.pi)\n",
    "b = tf.constant(np.e)\n",
    "with tf.GradientTape() as tape:\n",
    "    tape.watch([a, b])\n",
    "    c = .5 * (a**2 + b**2)\n",
    "grads = tape.gradient(c, [a, b])\n",
    "print(grads[0])\n",
    "print(grads[1])"
   ]
  },
  {
   "cell_type": "code",
   "execution_count": 18,
   "id": "3a292964",
   "metadata": {},
   "outputs": [
    {
     "name": "stdout",
     "output_type": "stream",
     "text": [
      "Autoregressive, BatchReshape, Bernoulli, Beta, Binomial, Blockwise, Categorical\n",
      "Cauchy, Chi, Chi2, Chi2WithAbsDf, ConditionalDistribution\n",
      "ConditionalTransformedDistribution, Deterministic, Dirichlet\n",
      "DirichletMultinomial, Distribution, Empirical, ExpRelaxedOneHotCategorical\n",
      "Exponential, FiniteDiscrete, Gamma, GammaGamma, GaussianProcess\n",
      "GaussianProcessRegressionModel, Geometric, Gumbel, HalfCauchy, HalfNormal\n",
      "HiddenMarkovModel, Horseshoe, Independent, InverseGamma\n",
      "InverseGammaWithSoftplusConcentrationRate\n",
      "InverseGammaWithSoftplusConcentrationScale, InverseGaussian, JointDistribution\n",
      "JointDistributionCoroutine, JointDistributionNamed, JointDistributionSequential\n",
      "Kumaraswamy, LKJ, Laplace, LinearGaussianStateSpaceModel, LogNormal, Logistic\n",
      "Mixture, MixtureSameFamily, Multinomial, MultivariateNormalDiag\n",
      "MultivariateNormalDiagPlusLowRank, MultivariateNormalDiagWithSoftplusScale\n",
      "MultivariateNormalFullCovariance, MultivariateNormalLinearOperator\n",
      "MultivariateNormalTriL, MultivariateStudentTLinearOperator, NegativeBinomial\n",
      "Normal, OneHotCategorical, Pareto, Poisson, PoissonLogNormalQuadratureCompound\n",
      "QuantizedDistribution, RelaxedBernoulli, RelaxedOneHotCategorical, Sample\n",
      "SinhArcsinh, StudentT, StudentTProcess, TransformedDistribution, Triangular\n",
      "TruncatedNormal, Uniform, VariationalGaussianProcess, VectorDeterministic\n",
      "VectorDiffeomixture, VectorExponentialDiag, VectorLaplaceDiag\n",
      "VectorSinhArcsinhDiag, VonMises, VonMisesFisher, Wishart, Zipf\n"
     ]
    }
   ],
   "source": [
    "print_subclasses_from_module(tfp.distributions, tfp.distributions.Distribution)"
   ]
  },
  {
   "cell_type": "code",
   "execution_count": 19,
   "id": "fa4797c5",
   "metadata": {},
   "outputs": [
    {
     "name": "stdout",
     "output_type": "stream",
     "text": [
      "tfp.distributions.Normal(\"Normal/\", batch_shape=[], event_shape=[], dtype=float32)\n"
     ]
    }
   ],
   "source": [
    "# A standard normal\n",
    "normal = tfd.Normal(loc=0., scale=1.)\n",
    "print(normal)"
   ]
  },
  {
   "cell_type": "code",
   "execution_count": 20,
   "id": "87ee253c",
   "metadata": {},
   "outputs": [
    {
     "name": "stderr",
     "output_type": "stream",
     "text": [
      "/Users/reneaas/miniforge3/lib/python3.9/site-packages/seaborn/distributions.py:2551: FutureWarning: `distplot` is a deprecated function and will be removed in a future version. Please adapt your code to use either `displot` (a figure-level function with similar flexibility) or `histplot` (an axes-level function for histograms).\n",
      "  warnings.warn(msg, FutureWarning)\n"
     ]
    },
    {
     "data": {
      "image/png": "[encoded data removed]",
      "text/plain": [
       "<Figure size 432x288 with 1 Axes>"
      ]
     },
     "metadata": {
      "needs_background": "light"
     },
     "output_type": "display_data"
    }
   ],
   "source": [
    "# Plot 1000 samples from a standard normal\n",
    "samples = normal.sample(1000)\n",
    "sns.distplot(samples)\n",
    "plt.title(\"Samples from a standard Normal\")\n",
    "plt.show()"
   ]
  },
  {
   "cell_type": "code",
   "execution_count": null,
   "id": "5c72a000",
   "metadata": {},
   "outputs": [],
   "source": []
  }
 ],
 "metadata": {
  "kernelspec": {
   "display_name": "Python 3 (ipykernel)",
   "language": "python",
   "name": "python3"
  },
  "language_info": {
   "codemirror_mode": {
    "name": "ipython",
    "version": 3
   },
   "file_extension": ".py",
   "mimetype": "text/x-python",
   "name": "python",
   "nbconvert_exporter": "python",
   "pygments_lexer": "ipython3",
   "version": "3.9.7"
  }
 },
 "nbformat": 4,
 "nbformat_minor": 5
}
